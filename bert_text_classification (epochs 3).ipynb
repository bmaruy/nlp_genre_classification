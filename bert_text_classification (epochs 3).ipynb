{
 "cells": [
  {
   "cell_type": "code",
   "execution_count": 15,
   "id": "799e3d60",
   "metadata": {},
   "outputs": [
    {
     "name": "stdout",
     "output_type": "stream",
     "text": [
      "Requirement already satisfied: transformers in /Users/bryanmaruyama/anaconda3/lib/python3.11/site-packages (2.2.0)\n",
      "Collecting transformers\n",
      "  Obtaining dependency information for transformers from https://files.pythonhosted.org/packages/b6/4d/fbe6d89fde59d8107f0a02816c4ac4542a8f9a85559fdf33c68282affcc1/transformers-4.38.2-py3-none-any.whl.metadata\n",
      "  Downloading transformers-4.38.2-py3-none-any.whl.metadata (130 kB)\n",
      "\u001b[2K     \u001b[90m━━━━━━━━━━━━━━━━━━━━━━━━━━━━━━━━━━━━━━━\u001b[0m \u001b[32m130.7/130.7 kB\u001b[0m \u001b[31m6.9 MB/s\u001b[0m eta \u001b[36m0:00:00\u001b[0m\n",
      "\u001b[?25hRequirement already satisfied: filelock in /Users/bryanmaruyama/anaconda3/lib/python3.11/site-packages (from transformers) (3.9.0)\n",
      "Collecting huggingface-hub<1.0,>=0.19.3 (from transformers)\n",
      "  Obtaining dependency information for huggingface-hub<1.0,>=0.19.3 from https://files.pythonhosted.org/packages/ab/28/d4b691840d73126d4c9845f8a22dad033ac872509b6d3a0d93b456eef424/huggingface_hub-0.21.4-py3-none-any.whl.metadata\n",
      "  Downloading huggingface_hub-0.21.4-py3-none-any.whl.metadata (13 kB)\n",
      "Requirement already satisfied: numpy>=1.17 in /Users/bryanmaruyama/anaconda3/lib/python3.11/site-packages (from transformers) (1.24.3)\n",
      "Requirement already satisfied: packaging>=20.0 in /Users/bryanmaruyama/anaconda3/lib/python3.11/site-packages (from transformers) (23.1)\n",
      "Requirement already satisfied: pyyaml>=5.1 in /Users/bryanmaruyama/anaconda3/lib/python3.11/site-packages (from transformers) (6.0)\n",
      "Requirement already satisfied: regex!=2019.12.17 in /Users/bryanmaruyama/anaconda3/lib/python3.11/site-packages (from transformers) (2022.7.9)\n",
      "Requirement already satisfied: requests in /Users/bryanmaruyama/anaconda3/lib/python3.11/site-packages (from transformers) (2.31.0)\n",
      "Collecting tokenizers<0.19,>=0.14 (from transformers)\n",
      "  Obtaining dependency information for tokenizers<0.19,>=0.14 from https://files.pythonhosted.org/packages/5f/4f/a4c12cc058a899c1caaa1e689c3df9a698e20e891d4005aa6ec2174a9339/tokenizers-0.15.2-cp311-cp311-macosx_11_0_arm64.whl.metadata\n",
      "  Downloading tokenizers-0.15.2-cp311-cp311-macosx_11_0_arm64.whl.metadata (6.7 kB)\n",
      "Collecting safetensors>=0.4.1 (from transformers)\n",
      "  Obtaining dependency information for safetensors>=0.4.1 from https://files.pythonhosted.org/packages/03/a0/67f2ed19dbc609ce1bf561a285a6cc8f804846a7f4d9c46b403be93022e4/safetensors-0.4.2-cp311-cp311-macosx_11_0_arm64.whl.metadata\n",
      "  Downloading safetensors-0.4.2-cp311-cp311-macosx_11_0_arm64.whl.metadata (3.8 kB)\n",
      "Requirement already satisfied: tqdm>=4.27 in /Users/bryanmaruyama/anaconda3/lib/python3.11/site-packages (from transformers) (4.65.0)\n",
      "Collecting fsspec>=2023.5.0 (from huggingface-hub<1.0,>=0.19.3->transformers)\n",
      "  Obtaining dependency information for fsspec>=2023.5.0 from https://files.pythonhosted.org/packages/ad/30/2281c062222dc39328843bd1ddd30ff3005ef8e30b2fd09c4d2792766061/fsspec-2024.2.0-py3-none-any.whl.metadata\n",
      "  Downloading fsspec-2024.2.0-py3-none-any.whl.metadata (6.8 kB)\n",
      "Requirement already satisfied: typing-extensions>=3.7.4.3 in /Users/bryanmaruyama/anaconda3/lib/python3.11/site-packages (from huggingface-hub<1.0,>=0.19.3->transformers) (4.10.0)\n",
      "Requirement already satisfied: charset-normalizer<4,>=2 in /Users/bryanmaruyama/anaconda3/lib/python3.11/site-packages (from requests->transformers) (2.0.4)\n",
      "Requirement already satisfied: idna<4,>=2.5 in /Users/bryanmaruyama/anaconda3/lib/python3.11/site-packages (from requests->transformers) (3.4)\n",
      "Requirement already satisfied: urllib3<3,>=1.21.1 in /Users/bryanmaruyama/anaconda3/lib/python3.11/site-packages (from requests->transformers) (1.26.16)\n",
      "Requirement already satisfied: certifi>=2017.4.17 in /Users/bryanmaruyama/anaconda3/lib/python3.11/site-packages (from requests->transformers) (2024.2.2)\n",
      "Downloading transformers-4.38.2-py3-none-any.whl (8.5 MB)\n",
      "\u001b[2K   \u001b[90m━━━━━━━━━━━━━━━━━━━━━━━━━━━━━━━━━━━━━━━━\u001b[0m \u001b[32m8.5/8.5 MB\u001b[0m \u001b[31m22.9 MB/s\u001b[0m eta \u001b[36m0:00:00\u001b[0ma \u001b[36m0:00:01\u001b[0m\n",
      "\u001b[?25hDownloading huggingface_hub-0.21.4-py3-none-any.whl (346 kB)\n",
      "\u001b[2K   \u001b[90m━━━━━━━━━━━━━━━━━━━━━━━━━━━━━━━━━━━━━━━━\u001b[0m \u001b[32m346.4/346.4 kB\u001b[0m \u001b[31m20.8 MB/s\u001b[0m eta \u001b[36m0:00:00\u001b[0m\n",
      "\u001b[?25hDownloading safetensors-0.4.2-cp311-cp311-macosx_11_0_arm64.whl (393 kB)\n",
      "\u001b[2K   \u001b[90m━━━━━━━━━━━━━━━━━━━━━━━━━━━━━━━━━━━━━━━━\u001b[0m \u001b[32m393.4/393.4 kB\u001b[0m \u001b[31m23.4 MB/s\u001b[0m eta \u001b[36m0:00:00\u001b[0m\n",
      "\u001b[?25hDownloading tokenizers-0.15.2-cp311-cp311-macosx_11_0_arm64.whl (2.4 MB)\n",
      "\u001b[2K   \u001b[90m━━━━━━━━━━━━━━━━━━━━━━━━━━━━━━━━━━━━━━━━\u001b[0m \u001b[32m2.4/2.4 MB\u001b[0m \u001b[31m20.0 MB/s\u001b[0m eta \u001b[36m0:00:00\u001b[0m00:01\u001b[0m00:01\u001b[0m\n",
      "\u001b[?25hDownloading fsspec-2024.2.0-py3-none-any.whl (170 kB)\n",
      "\u001b[2K   \u001b[90m━━━━━━━━━━━━━━━━━━━━━━━━━━━━━━━━━━━━━━━━\u001b[0m \u001b[32m170.9/170.9 kB\u001b[0m \u001b[31m18.5 MB/s\u001b[0m eta \u001b[36m0:00:00\u001b[0m\n",
      "\u001b[?25hInstalling collected packages: safetensors, fsspec, huggingface-hub, tokenizers, transformers\n",
      "  Attempting uninstall: safetensors\n",
      "    Found existing installation: safetensors 0.3.2\n",
      "    Uninstalling safetensors-0.3.2:\n",
      "      Successfully uninstalled safetensors-0.3.2\n",
      "  Attempting uninstall: fsspec\n",
      "    Found existing installation: fsspec 2023.4.0\n",
      "    Uninstalling fsspec-2023.4.0:\n",
      "      Successfully uninstalled fsspec-2023.4.0\n",
      "  Attempting uninstall: huggingface-hub\n",
      "    Found existing installation: huggingface-hub 0.15.1\n",
      "    Uninstalling huggingface-hub-0.15.1:\n",
      "      Successfully uninstalled huggingface-hub-0.15.1\n",
      "  Attempting uninstall: tokenizers\n",
      "    Found existing installation: tokenizers 0.13.2\n",
      "    Uninstalling tokenizers-0.13.2:\n",
      "      Successfully uninstalled tokenizers-0.13.2\n",
      "  Attempting uninstall: transformers\n",
      "    Found existing installation: transformers 2.2.0\n",
      "    Uninstalling transformers-2.2.0:\n",
      "      Successfully uninstalled transformers-2.2.0\n",
      "\u001b[31mERROR: pip's dependency resolver does not currently take into account all the packages that are installed. This behaviour is the source of the following dependency conflicts.\n",
      "s3fs 2023.4.0 requires fsspec==2023.4.0, but you have fsspec 2024.2.0 which is incompatible.\u001b[0m\u001b[31m\n",
      "\u001b[0mSuccessfully installed fsspec-2024.2.0 huggingface-hub-0.21.4 safetensors-0.4.2 tokenizers-0.15.2 transformers-4.38.2\n",
      "Note: you may need to restart the kernel to use updated packages.\n"
     ]
    }
   ],
   "source": [
    "pip install --upgrade transformers"
   ]
  },
  {
   "cell_type": "code",
   "execution_count": 2,
   "id": "db3aa137-0759-41dd-b2bd-f52679dca454",
   "metadata": {
    "scrolled": true
   },
   "outputs": [
    {
     "name": "stdout",
     "output_type": "stream",
     "text": [
      "Requirement already satisfied: seaborn in /Users/bryanmaruyama/anaconda3/envs/ML-env/lib/python3.10/site-packages (0.13.2)\n",
      "Requirement already satisfied: numpy!=1.24.0,>=1.20 in /Users/bryanmaruyama/anaconda3/envs/ML-env/lib/python3.10/site-packages (from seaborn) (1.26.2)\n",
      "Requirement already satisfied: pandas>=1.2 in /Users/bryanmaruyama/anaconda3/envs/ML-env/lib/python3.10/site-packages (from seaborn) (2.1.4)\n",
      "Requirement already satisfied: matplotlib!=3.6.1,>=3.4 in /Users/bryanmaruyama/anaconda3/envs/ML-env/lib/python3.10/site-packages (from seaborn) (3.8.0)\n",
      "Requirement already satisfied: contourpy>=1.0.1 in /Users/bryanmaruyama/anaconda3/envs/ML-env/lib/python3.10/site-packages (from matplotlib!=3.6.1,>=3.4->seaborn) (1.2.0)\n",
      "Requirement already satisfied: cycler>=0.10 in /Users/bryanmaruyama/anaconda3/envs/ML-env/lib/python3.10/site-packages (from matplotlib!=3.6.1,>=3.4->seaborn) (0.11.0)\n",
      "Requirement already satisfied: fonttools>=4.22.0 in /Users/bryanmaruyama/anaconda3/envs/ML-env/lib/python3.10/site-packages (from matplotlib!=3.6.1,>=3.4->seaborn) (4.25.0)\n",
      "Requirement already satisfied: kiwisolver>=1.0.1 in /Users/bryanmaruyama/anaconda3/envs/ML-env/lib/python3.10/site-packages (from matplotlib!=3.6.1,>=3.4->seaborn) (1.4.4)\n",
      "Requirement already satisfied: packaging>=20.0 in /Users/bryanmaruyama/anaconda3/envs/ML-env/lib/python3.10/site-packages (from matplotlib!=3.6.1,>=3.4->seaborn) (23.1)\n",
      "Requirement already satisfied: pillow>=6.2.0 in /Users/bryanmaruyama/anaconda3/envs/ML-env/lib/python3.10/site-packages (from matplotlib!=3.6.1,>=3.4->seaborn) (10.0.1)\n",
      "Requirement already satisfied: pyparsing>=2.3.1 in /Users/bryanmaruyama/anaconda3/envs/ML-env/lib/python3.10/site-packages (from matplotlib!=3.6.1,>=3.4->seaborn) (3.0.9)\n",
      "Requirement already satisfied: python-dateutil>=2.7 in /Users/bryanmaruyama/anaconda3/envs/ML-env/lib/python3.10/site-packages (from matplotlib!=3.6.1,>=3.4->seaborn) (2.8.2)\n",
      "Requirement already satisfied: pytz>=2020.1 in /Users/bryanmaruyama/anaconda3/envs/ML-env/lib/python3.10/site-packages (from pandas>=1.2->seaborn) (2023.3.post1)\n",
      "Requirement already satisfied: tzdata>=2022.1 in /Users/bryanmaruyama/anaconda3/envs/ML-env/lib/python3.10/site-packages (from pandas>=1.2->seaborn) (2023.3)\n",
      "Requirement already satisfied: six>=1.5 in /Users/bryanmaruyama/anaconda3/envs/ML-env/lib/python3.10/site-packages (from python-dateutil>=2.7->matplotlib!=3.6.1,>=3.4->seaborn) (1.16.0)\n",
      "Note: you may need to restart the kernel to use updated packages.\n"
     ]
    }
   ],
   "source": [
    "pip install seaborn"
   ]
  },
  {
   "cell_type": "code",
   "execution_count": 3,
   "id": "843a5a86",
   "metadata": {
    "scrolled": true
   },
   "outputs": [
    {
     "name": "stdout",
     "output_type": "stream",
     "text": [
      "Requirement already satisfied: torch in /Users/bryanmaruyama/anaconda3/envs/ML-env/lib/python3.10/site-packages (2.2.1)\n",
      "Requirement already satisfied: filelock in /Users/bryanmaruyama/anaconda3/envs/ML-env/lib/python3.10/site-packages (from torch) (3.13.1)\n",
      "Requirement already satisfied: typing-extensions>=4.8.0 in /Users/bryanmaruyama/anaconda3/envs/ML-env/lib/python3.10/site-packages (from torch) (4.10.0)\n",
      "Requirement already satisfied: sympy in /Users/bryanmaruyama/anaconda3/envs/ML-env/lib/python3.10/site-packages (from torch) (1.12)\n",
      "Requirement already satisfied: networkx in /Users/bryanmaruyama/anaconda3/envs/ML-env/lib/python3.10/site-packages (from torch) (3.2.1)\n",
      "Requirement already satisfied: jinja2 in /Users/bryanmaruyama/anaconda3/envs/ML-env/lib/python3.10/site-packages (from torch) (3.1.2)\n",
      "Requirement already satisfied: fsspec in /Users/bryanmaruyama/anaconda3/envs/ML-env/lib/python3.10/site-packages (from torch) (2024.2.0)\n",
      "Requirement already satisfied: MarkupSafe>=2.0 in /Users/bryanmaruyama/anaconda3/envs/ML-env/lib/python3.10/site-packages (from jinja2->torch) (2.1.1)\n",
      "Requirement already satisfied: mpmath>=0.19 in /Users/bryanmaruyama/anaconda3/envs/ML-env/lib/python3.10/site-packages (from sympy->torch) (1.3.0)\n",
      "Note: you may need to restart the kernel to use updated packages.\n"
     ]
    }
   ],
   "source": [
    "pip install torch"
   ]
  },
  {
   "cell_type": "code",
   "execution_count": 4,
   "id": "86411eca-fab0-4e75-b1f2-6748403386b2",
   "metadata": {
    "scrolled": true
   },
   "outputs": [
    {
     "name": "stdout",
     "output_type": "stream",
     "text": [
      "Requirement already satisfied: scikit-learn in /Users/bryanmaruyama/anaconda3/envs/ML-env/lib/python3.10/site-packages (1.4.1.post1)\n",
      "Requirement already satisfied: numpy<2.0,>=1.19.5 in /Users/bryanmaruyama/anaconda3/envs/ML-env/lib/python3.10/site-packages (from scikit-learn) (1.26.2)\n",
      "Requirement already satisfied: scipy>=1.6.0 in /Users/bryanmaruyama/anaconda3/envs/ML-env/lib/python3.10/site-packages (from scikit-learn) (1.11.4)\n",
      "Requirement already satisfied: joblib>=1.2.0 in /Users/bryanmaruyama/anaconda3/envs/ML-env/lib/python3.10/site-packages (from scikit-learn) (1.3.2)\n",
      "Requirement already satisfied: threadpoolctl>=2.0.0 in /Users/bryanmaruyama/anaconda3/envs/ML-env/lib/python3.10/site-packages (from scikit-learn) (3.3.0)\n",
      "Note: you may need to restart the kernel to use updated packages.\n"
     ]
    }
   ],
   "source": [
    "pip install -U scikit-learn"
   ]
  },
  {
   "cell_type": "code",
   "execution_count": 1,
   "id": "29f46f47",
   "metadata": {},
   "outputs": [],
   "source": [
    "import numpy as np\n",
    "import pandas as pd\n",
    "from sklearn import metrics\n",
    "import transformers\n",
    "import torch\n",
    "from torch.utils.data import Dataset, DataLoader, RandomSampler, SequentialSampler\n",
    "from transformers import BertTokenizer, BertModel"
   ]
  },
  {
   "cell_type": "code",
   "execution_count": 2,
   "id": "c8769d04",
   "metadata": {},
   "outputs": [],
   "source": [
    "from torch import cuda\n",
    "device = 'cuda' if cuda.is_available() else 'cpu'"
   ]
  },
  {
   "cell_type": "code",
   "execution_count": 3,
   "id": "23c4a290",
   "metadata": {},
   "outputs": [
    {
     "data": {
      "text/html": [
       "<div>\n",
       "<style scoped>\n",
       "    .dataframe tbody tr th:only-of-type {\n",
       "        vertical-align: middle;\n",
       "    }\n",
       "\n",
       "    .dataframe tbody tr th {\n",
       "        vertical-align: top;\n",
       "    }\n",
       "\n",
       "    .dataframe thead th {\n",
       "        text-align: right;\n",
       "    }\n",
       "</style>\n",
       "<table border=\"1\" class=\"dataframe\">\n",
       "  <thead>\n",
       "    <tr style=\"text-align: right;\">\n",
       "      <th></th>\n",
       "      <th>Unnamed: 0</th>\n",
       "      <th>book_id</th>\n",
       "      <th>book_name</th>\n",
       "      <th>genre</th>\n",
       "      <th>summary</th>\n",
       "    </tr>\n",
       "  </thead>\n",
       "  <tbody>\n",
       "    <tr>\n",
       "      <th>0</th>\n",
       "      <td>0</td>\n",
       "      <td>3248537</td>\n",
       "      <td>Drowned Wednesday</td>\n",
       "      <td>Fantasy</td>\n",
       "      <td>Drowned Wednesday is the first Trustee among ...</td>\n",
       "    </tr>\n",
       "    <tr>\n",
       "      <th>1</th>\n",
       "      <td>1</td>\n",
       "      <td>27796919</td>\n",
       "      <td>The Lost Hero</td>\n",
       "      <td>Fantasy</td>\n",
       "      <td>As the book opens, Jason awakens on a school ...</td>\n",
       "    </tr>\n",
       "    <tr>\n",
       "      <th>2</th>\n",
       "      <td>2</td>\n",
       "      <td>3910776</td>\n",
       "      <td>The Eyes of the Overworld</td>\n",
       "      <td>Fantasy</td>\n",
       "      <td>Cugel is easily persuaded by the merchant Fia...</td>\n",
       "    </tr>\n",
       "    <tr>\n",
       "      <th>3</th>\n",
       "      <td>3</td>\n",
       "      <td>5969644</td>\n",
       "      <td>Magic's Promise</td>\n",
       "      <td>Fantasy</td>\n",
       "      <td>The book opens with Herald-Mage Vanyel return...</td>\n",
       "    </tr>\n",
       "    <tr>\n",
       "      <th>4</th>\n",
       "      <td>4</td>\n",
       "      <td>3173445</td>\n",
       "      <td>Taran Wanderer</td>\n",
       "      <td>Fantasy</td>\n",
       "      <td>Taran and Gurgi have returned to Caer Dallben...</td>\n",
       "    </tr>\n",
       "  </tbody>\n",
       "</table>\n",
       "</div>"
      ],
      "text/plain": [
       "   Unnamed: 0   book_id                  book_name    genre  \\\n",
       "0           0   3248537          Drowned Wednesday  Fantasy   \n",
       "1           1  27796919              The Lost Hero  Fantasy   \n",
       "2           2   3910776  The Eyes of the Overworld  Fantasy   \n",
       "3           3   5969644            Magic's Promise  Fantasy   \n",
       "4           4   3173445             Taran Wanderer  Fantasy   \n",
       "\n",
       "                                             summary  \n",
       "0   Drowned Wednesday is the first Trustee among ...  \n",
       "1   As the book opens, Jason awakens on a school ...  \n",
       "2   Cugel is easily persuaded by the merchant Fia...  \n",
       "3   The book opens with Herald-Mage Vanyel return...  \n",
       "4   Taran and Gurgi have returned to Caer Dallben...  "
      ]
     },
     "execution_count": 3,
     "metadata": {},
     "output_type": "execute_result"
    }
   ],
   "source": [
    "df = pd.read_csv(\"./data/BooksDataSet.csv\")\n",
    "df.head()"
   ]
  },
  {
   "cell_type": "code",
   "execution_count": 4,
   "id": "2cec6601",
   "metadata": {},
   "outputs": [
    {
     "data": {
      "text/html": [
       "<div>\n",
       "<style scoped>\n",
       "    .dataframe tbody tr th:only-of-type {\n",
       "        vertical-align: middle;\n",
       "    }\n",
       "\n",
       "    .dataframe tbody tr th {\n",
       "        vertical-align: top;\n",
       "    }\n",
       "\n",
       "    .dataframe thead th {\n",
       "        text-align: right;\n",
       "    }\n",
       "</style>\n",
       "<table border=\"1\" class=\"dataframe\">\n",
       "  <thead>\n",
       "    <tr style=\"text-align: right;\">\n",
       "      <th></th>\n",
       "      <th>book_id</th>\n",
       "      <th>book_name</th>\n",
       "      <th>genre</th>\n",
       "      <th>summary</th>\n",
       "    </tr>\n",
       "  </thead>\n",
       "  <tbody>\n",
       "    <tr>\n",
       "      <th>0</th>\n",
       "      <td>3248537</td>\n",
       "      <td>Drowned Wednesday</td>\n",
       "      <td>Fantasy</td>\n",
       "      <td>Drowned Wednesday is the first Trustee among ...</td>\n",
       "    </tr>\n",
       "    <tr>\n",
       "      <th>1</th>\n",
       "      <td>27796919</td>\n",
       "      <td>The Lost Hero</td>\n",
       "      <td>Fantasy</td>\n",
       "      <td>As the book opens, Jason awakens on a school ...</td>\n",
       "    </tr>\n",
       "    <tr>\n",
       "      <th>2</th>\n",
       "      <td>3910776</td>\n",
       "      <td>The Eyes of the Overworld</td>\n",
       "      <td>Fantasy</td>\n",
       "      <td>Cugel is easily persuaded by the merchant Fia...</td>\n",
       "    </tr>\n",
       "    <tr>\n",
       "      <th>3</th>\n",
       "      <td>5969644</td>\n",
       "      <td>Magic's Promise</td>\n",
       "      <td>Fantasy</td>\n",
       "      <td>The book opens with Herald-Mage Vanyel return...</td>\n",
       "    </tr>\n",
       "    <tr>\n",
       "      <th>4</th>\n",
       "      <td>3173445</td>\n",
       "      <td>Taran Wanderer</td>\n",
       "      <td>Fantasy</td>\n",
       "      <td>Taran and Gurgi have returned to Caer Dallben...</td>\n",
       "    </tr>\n",
       "  </tbody>\n",
       "</table>\n",
       "</div>"
      ],
      "text/plain": [
       "    book_id                  book_name    genre  \\\n",
       "0   3248537          Drowned Wednesday  Fantasy   \n",
       "1  27796919              The Lost Hero  Fantasy   \n",
       "2   3910776  The Eyes of the Overworld  Fantasy   \n",
       "3   5969644            Magic's Promise  Fantasy   \n",
       "4   3173445             Taran Wanderer  Fantasy   \n",
       "\n",
       "                                             summary  \n",
       "0   Drowned Wednesday is the first Trustee among ...  \n",
       "1   As the book opens, Jason awakens on a school ...  \n",
       "2   Cugel is easily persuaded by the merchant Fia...  \n",
       "3   The book opens with Herald-Mage Vanyel return...  \n",
       "4   Taran and Gurgi have returned to Caer Dallben...  "
      ]
     },
     "execution_count": 4,
     "metadata": {},
     "output_type": "execute_result"
    }
   ],
   "source": [
    "df = df.drop(['Unnamed: 0'], axis=1)\n",
    "df.head()"
   ]
  },
  {
   "cell_type": "code",
   "execution_count": 5,
   "id": "45000e36",
   "metadata": {},
   "outputs": [
    {
     "name": "stdout",
     "output_type": "stream",
     "text": [
      "genre\n",
      "Fantasy             500\n",
      "Science Fiction     500\n",
      "Crime Fiction       500\n",
      "Historical novel    500\n",
      "Horror              500\n",
      "Thriller            500\n",
      "Name: count, dtype: int64\n"
     ]
    }
   ],
   "source": [
    "print(df['genre'].value_counts())"
   ]
  },
  {
   "cell_type": "code",
   "execution_count": 6,
   "id": "cefa5f37",
   "metadata": {},
   "outputs": [
    {
     "data": {
      "text/html": [
       "<div>\n",
       "<style scoped>\n",
       "    .dataframe tbody tr th:only-of-type {\n",
       "        vertical-align: middle;\n",
       "    }\n",
       "\n",
       "    .dataframe tbody tr th {\n",
       "        vertical-align: top;\n",
       "    }\n",
       "\n",
       "    .dataframe thead th {\n",
       "        text-align: right;\n",
       "    }\n",
       "</style>\n",
       "<table border=\"1\" class=\"dataframe\">\n",
       "  <thead>\n",
       "    <tr style=\"text-align: right;\">\n",
       "      <th></th>\n",
       "      <th>book_id</th>\n",
       "      <th>book_name</th>\n",
       "      <th>genre</th>\n",
       "      <th>summary</th>\n",
       "      <th>labels</th>\n",
       "    </tr>\n",
       "  </thead>\n",
       "  <tbody>\n",
       "    <tr>\n",
       "      <th>0</th>\n",
       "      <td>3248537</td>\n",
       "      <td>Drowned Wednesday</td>\n",
       "      <td>Fantasy</td>\n",
       "      <td>Drowned Wednesday is the first Trustee among ...</td>\n",
       "      <td>[0, 0, 0, 0, 0, 0]</td>\n",
       "    </tr>\n",
       "    <tr>\n",
       "      <th>1</th>\n",
       "      <td>27796919</td>\n",
       "      <td>The Lost Hero</td>\n",
       "      <td>Fantasy</td>\n",
       "      <td>As the book opens, Jason awakens on a school ...</td>\n",
       "      <td>[0, 0, 0, 0, 0, 0]</td>\n",
       "    </tr>\n",
       "    <tr>\n",
       "      <th>2</th>\n",
       "      <td>3910776</td>\n",
       "      <td>The Eyes of the Overworld</td>\n",
       "      <td>Fantasy</td>\n",
       "      <td>Cugel is easily persuaded by the merchant Fia...</td>\n",
       "      <td>[0, 0, 0, 0, 0, 0]</td>\n",
       "    </tr>\n",
       "    <tr>\n",
       "      <th>3</th>\n",
       "      <td>5969644</td>\n",
       "      <td>Magic's Promise</td>\n",
       "      <td>Fantasy</td>\n",
       "      <td>The book opens with Herald-Mage Vanyel return...</td>\n",
       "      <td>[0, 0, 0, 0, 0, 0]</td>\n",
       "    </tr>\n",
       "    <tr>\n",
       "      <th>4</th>\n",
       "      <td>3173445</td>\n",
       "      <td>Taran Wanderer</td>\n",
       "      <td>Fantasy</td>\n",
       "      <td>Taran and Gurgi have returned to Caer Dallben...</td>\n",
       "      <td>[0, 0, 0, 0, 0, 0]</td>\n",
       "    </tr>\n",
       "  </tbody>\n",
       "</table>\n",
       "</div>"
      ],
      "text/plain": [
       "    book_id                  book_name    genre  \\\n",
       "0   3248537          Drowned Wednesday  Fantasy   \n",
       "1  27796919              The Lost Hero  Fantasy   \n",
       "2   3910776  The Eyes of the Overworld  Fantasy   \n",
       "3   5969644            Magic's Promise  Fantasy   \n",
       "4   3173445             Taran Wanderer  Fantasy   \n",
       "\n",
       "                                             summary              labels  \n",
       "0   Drowned Wednesday is the first Trustee among ...  [0, 0, 0, 0, 0, 0]  \n",
       "1   As the book opens, Jason awakens on a school ...  [0, 0, 0, 0, 0, 0]  \n",
       "2   Cugel is easily persuaded by the merchant Fia...  [0, 0, 0, 0, 0, 0]  \n",
       "3   The book opens with Herald-Mage Vanyel return...  [0, 0, 0, 0, 0, 0]  \n",
       "4   Taran and Gurgi have returned to Caer Dallben...  [0, 0, 0, 0, 0, 0]  "
      ]
     },
     "execution_count": 6,
     "metadata": {},
     "output_type": "execute_result"
    }
   ],
   "source": [
    "df['labels'] = [[0] * 6 for _ in range(len(df))]\n",
    "df.head()"
   ]
  },
  {
   "cell_type": "code",
   "execution_count": 7,
   "id": "5101933e",
   "metadata": {},
   "outputs": [],
   "source": [
    "for book in df.itertuples():\n",
    "    genre = book.genre\n",
    "    if genre == 'Fantasy':\n",
    "        book.labels[0] = 1\n",
    "    elif genre == 'Science Fiction':\n",
    "        book.labels[1] = 1\n",
    "    elif genre == 'Crime Fiction':\n",
    "        book.labels[2] = 1\n",
    "    elif genre == 'Historical novel':\n",
    "        book.labels[3] = 1\n",
    "    elif genre == 'Horror':\n",
    "        book.labels[4] = 1\n",
    "    elif genre == 'Thriller':\n",
    "        book.labels[5] = 1"
   ]
  },
  {
   "cell_type": "code",
   "execution_count": 8,
   "id": "f3bc88a3",
   "metadata": {},
   "outputs": [
    {
     "data": {
      "text/html": [
       "<div>\n",
       "<style scoped>\n",
       "    .dataframe tbody tr th:only-of-type {\n",
       "        vertical-align: middle;\n",
       "    }\n",
       "\n",
       "    .dataframe tbody tr th {\n",
       "        vertical-align: top;\n",
       "    }\n",
       "\n",
       "    .dataframe thead th {\n",
       "        text-align: right;\n",
       "    }\n",
       "</style>\n",
       "<table border=\"1\" class=\"dataframe\">\n",
       "  <thead>\n",
       "    <tr style=\"text-align: right;\">\n",
       "      <th></th>\n",
       "      <th>book_id</th>\n",
       "      <th>book_name</th>\n",
       "      <th>genre</th>\n",
       "      <th>summary</th>\n",
       "      <th>labels</th>\n",
       "    </tr>\n",
       "  </thead>\n",
       "  <tbody>\n",
       "    <tr>\n",
       "      <th>0</th>\n",
       "      <td>3248537</td>\n",
       "      <td>Drowned Wednesday</td>\n",
       "      <td>Fantasy</td>\n",
       "      <td>Drowned Wednesday is the first Trustee among ...</td>\n",
       "      <td>[1, 0, 0, 0, 0, 0]</td>\n",
       "    </tr>\n",
       "    <tr>\n",
       "      <th>1</th>\n",
       "      <td>27796919</td>\n",
       "      <td>The Lost Hero</td>\n",
       "      <td>Fantasy</td>\n",
       "      <td>As the book opens, Jason awakens on a school ...</td>\n",
       "      <td>[1, 0, 0, 0, 0, 0]</td>\n",
       "    </tr>\n",
       "    <tr>\n",
       "      <th>2</th>\n",
       "      <td>3910776</td>\n",
       "      <td>The Eyes of the Overworld</td>\n",
       "      <td>Fantasy</td>\n",
       "      <td>Cugel is easily persuaded by the merchant Fia...</td>\n",
       "      <td>[1, 0, 0, 0, 0, 0]</td>\n",
       "    </tr>\n",
       "    <tr>\n",
       "      <th>3</th>\n",
       "      <td>5969644</td>\n",
       "      <td>Magic's Promise</td>\n",
       "      <td>Fantasy</td>\n",
       "      <td>The book opens with Herald-Mage Vanyel return...</td>\n",
       "      <td>[1, 0, 0, 0, 0, 0]</td>\n",
       "    </tr>\n",
       "    <tr>\n",
       "      <th>4</th>\n",
       "      <td>3173445</td>\n",
       "      <td>Taran Wanderer</td>\n",
       "      <td>Fantasy</td>\n",
       "      <td>Taran and Gurgi have returned to Caer Dallben...</td>\n",
       "      <td>[1, 0, 0, 0, 0, 0]</td>\n",
       "    </tr>\n",
       "  </tbody>\n",
       "</table>\n",
       "</div>"
      ],
      "text/plain": [
       "    book_id                  book_name    genre  \\\n",
       "0   3248537          Drowned Wednesday  Fantasy   \n",
       "1  27796919              The Lost Hero  Fantasy   \n",
       "2   3910776  The Eyes of the Overworld  Fantasy   \n",
       "3   5969644            Magic's Promise  Fantasy   \n",
       "4   3173445             Taran Wanderer  Fantasy   \n",
       "\n",
       "                                             summary              labels  \n",
       "0   Drowned Wednesday is the first Trustee among ...  [1, 0, 0, 0, 0, 0]  \n",
       "1   As the book opens, Jason awakens on a school ...  [1, 0, 0, 0, 0, 0]  \n",
       "2   Cugel is easily persuaded by the merchant Fia...  [1, 0, 0, 0, 0, 0]  \n",
       "3   The book opens with Herald-Mage Vanyel return...  [1, 0, 0, 0, 0, 0]  \n",
       "4   Taran and Gurgi have returned to Caer Dallben...  [1, 0, 0, 0, 0, 0]  "
      ]
     },
     "execution_count": 8,
     "metadata": {},
     "output_type": "execute_result"
    }
   ],
   "source": [
    "df.head()"
   ]
  },
  {
   "cell_type": "code",
   "execution_count": 12,
   "id": "406e0d7c-11ac-444a-8d58-d406485132bc",
   "metadata": {},
   "outputs": [
    {
     "name": "stdout",
     "output_type": "stream",
     "text": [
      "0       [1, 0, 0, 0, 0, 0]\n",
      "1       [1, 0, 0, 0, 0, 0]\n",
      "2       [1, 0, 0, 0, 0, 0]\n",
      "3       [1, 0, 0, 0, 0, 0]\n",
      "4       [1, 0, 0, 0, 0, 0]\n",
      "               ...        \n",
      "2995    [0, 0, 0, 0, 0, 1]\n",
      "2996    [0, 0, 0, 0, 0, 1]\n",
      "2997    [0, 0, 0, 0, 0, 1]\n",
      "2998    [0, 0, 0, 0, 0, 1]\n",
      "2999    [0, 0, 0, 0, 0, 1]\n",
      "Name: labels, Length: 3000, dtype: object\n"
     ]
    }
   ],
   "source": [
    "print(df['labels'])"
   ]
  },
  {
   "cell_type": "code",
   "execution_count": 18,
   "id": "c71742f4-5d9a-45dd-b6e7-27581c216b15",
   "metadata": {},
   "outputs": [],
   "source": [
    "tokenizer = BertTokenizer.from_pretrained('bert-base-uncased', truncation=True)"
   ]
  },
  {
   "cell_type": "code",
   "execution_count": 19,
   "id": "73635d84-83a0-48df-9db9-16c43a3991f5",
   "metadata": {},
   "outputs": [],
   "source": [
    "token_counts = []\n",
    "\n",
    "for _, row in df.iterrows():\n",
    "  token_count = len(tokenizer.encode(\n",
    "    row[\"summary\"], \n",
    "    max_length=512\n",
    "  ))\n",
    "  token_counts.append(token_count)"
   ]
  },
  {
   "cell_type": "code",
   "execution_count": 20,
   "id": "6482f26d-dff3-4f0c-84b4-53cfccc6576f",
   "metadata": {},
   "outputs": [
    {
     "data": {
      "image/png": "[encoded data removed]",
      "text/plain": [
       "<Figure size 640x480 with 1 Axes>"
      ]
     },
     "metadata": {},
     "output_type": "display_data"
    }
   ],
   "source": [
    "import seaborn as sns\n",
    "import matplotlib.pyplot as plt\n",
    "\n",
    "sns.histplot(token_counts)\n",
    "plt.xlim([0, 512]);"
   ]
  },
  {
   "cell_type": "code",
   "execution_count": 21,
   "id": "a1ff9e92",
   "metadata": {},
   "outputs": [],
   "source": [
    "# Sections of config\n",
    "MAX_LEN = 512\n",
    "TRAIN_BATCH_SIZE = 8\n",
    "VALID_BATCH_SIZE = 4\n",
    "EPOCHS = 3\n",
    "LEARNING_RATE = 1e-05"
   ]
  },
  {
   "cell_type": "code",
   "execution_count": 22,
   "id": "29a78feb-71ff-4268-a786-a2e0c139f221",
   "metadata": {},
   "outputs": [],
   "source": [
    "class CustomDataset(Dataset):\n",
    "\n",
    "    def __init__(self, dataframe, tokenizer, max_len):\n",
    "        self.tokenizer = tokenizer\n",
    "        self.data = dataframe\n",
    "        self.summary = dataframe.summary\n",
    "        self.labels = self.data.labels\n",
    "        self.max_len = max_len\n",
    "\n",
    "    def __len__(self):\n",
    "        return len(self.summary)\n",
    "\n",
    "    def __getitem__(self, index):\n",
    "        summary = str(self.summary[index])\n",
    "        summary = \" \".join(summary.split())\n",
    "\n",
    "        inputs = self.tokenizer.encode_plus(\n",
    "            summary,\n",
    "            None,\n",
    "            add_special_tokens=True,\n",
    "            max_length=self.max_len,\n",
    "            pad_to_max_length=True,\n",
    "            return_token_type_ids=True\n",
    "        )\n",
    "        ids = inputs['input_ids']\n",
    "        mask = inputs['attention_mask']\n",
    "        token_type_ids = inputs[\"token_type_ids\"]\n",
    "\n",
    "\n",
    "        return {\n",
    "            'ids': torch.tensor(ids, dtype=torch.long),\n",
    "            'mask': torch.tensor(mask, dtype=torch.long),\n",
    "            'token_type_ids': torch.tensor(token_type_ids, dtype=torch.long),\n",
    "            'labels': torch.tensor(self.labels[index], dtype=torch.float)\n",
    "        }"
   ]
  },
  {
   "cell_type": "code",
   "execution_count": 23,
   "id": "440f7e86",
   "metadata": {},
   "outputs": [
    {
     "name": "stdout",
     "output_type": "stream",
     "text": [
      "FULL Dataset: (3000, 2)\n",
      "TRAIN Dataset: (2100, 2)\n",
      "TEST Dataset: (900, 2)\n"
     ]
    }
   ],
   "source": [
    "# Splitting the DataFrame into features (X) and labels (y)\n",
    "new_df = df[['summary', 'labels']]\n",
    "\n",
    "train_size = 0.7\n",
    "train_dataset=new_df.sample(frac=train_size,random_state=42)\n",
    "test_dataset=new_df.drop(train_dataset.index).reset_index(drop=True)\n",
    "train_dataset = train_dataset.reset_index(drop=True)\n",
    "\n",
    "\n",
    "print(\"FULL Dataset: {}\".format(new_df.shape))\n",
    "print(\"TRAIN Dataset: {}\".format(train_dataset.shape))\n",
    "print(\"TEST Dataset: {}\".format(test_dataset.shape))\n",
    "\n",
    "training_set = CustomDataset(train_dataset, tokenizer, MAX_LEN)\n",
    "testing_set = CustomDataset(test_dataset, tokenizer, MAX_LEN)"
   ]
  },
  {
   "cell_type": "code",
   "execution_count": 24,
   "id": "de91b448",
   "metadata": {},
   "outputs": [],
   "source": [
    "train_params = {'batch_size': TRAIN_BATCH_SIZE,\n",
    "                'shuffle': True,\n",
    "                'num_workers': 0\n",
    "                }\n",
    "\n",
    "test_params = {'batch_size': VALID_BATCH_SIZE,\n",
    "                'shuffle': True,\n",
    "                'num_workers': 0\n",
    "                }\n",
    "\n",
    "training_loader = DataLoader(training_set, **train_params)\n",
    "testing_loader = DataLoader(testing_set, **test_params)"
   ]
  },
  {
   "cell_type": "code",
   "execution_count": null,
   "id": "85e82087-6c30-42e3-9105-db8eb42c6276",
   "metadata": {
    "scrolled": true
   },
   "outputs": [
    {
     "name": "stderr",
     "output_type": "stream",
     "text": [
      "100%|█████████████████████████| 440473133/440473133 [00:57<00:00, 7608878.80B/s]\n"
     ]
    }
   ],
   "source": [
    "class BertClass(torch.nn.Module):\n",
    "    def __init__(self):\n",
    "        super(BertClass, self).__init__()\n",
    "        self.bert = transformers.BertModel.from_pretrained('bert-base-uncased')\n",
    "        self.dropout = torch.nn.Dropout(0.1)\n",
    "        self.fc = torch.nn.Linear(self.bert.config.hidden_size, 6)\n",
    "\n",
    "    def forward(self, ids, mask):\n",
    "        _, output1 = self.bert(input_ids=ids, attention_mask=mask, return_dict=False)\n",
    "        output2 = self.dropout(output1)\n",
    "        output = self.fc(output2)\n",
    "        return output\n",
    "\n",
    "model = BertClass()\n",
    "model.to(device)"
   ]
  },
  {
   "cell_type": "code",
   "execution_count": 155,
   "id": "905a5be3-a98d-491c-b210-5c3f0704ca29",
   "metadata": {},
   "outputs": [],
   "source": [
    "def loss_fn(outputs, labels):\n",
    "    return torch.nn.CrossEntropyLoss()(outputs, labels)"
   ]
  },
  {
   "cell_type": "code",
   "execution_count": 156,
   "id": "a37804b9-e6d6-45dc-9f4c-a18b44524d11",
   "metadata": {},
   "outputs": [],
   "source": [
    "optimizer = torch.optim.Adam(params =  model.parameters(), lr=LEARNING_RATE)"
   ]
  },
  {
   "cell_type": "code",
   "execution_count": 157,
   "id": "d595722c-9fe1-4e90-b091-494a4a7e1d7d",
   "metadata": {},
   "outputs": [],
   "source": [
    "def train(epoch):\n",
    "    model.train()\n",
    "    for _,data in enumerate(training_loader, 0):\n",
    "        ids = data['ids'].to(device, dtype = torch.long)\n",
    "        mask = data['mask'].to(device, dtype = torch.long)\n",
    "        #token_type_ids = data['token_type_ids'].to(device, dtype = torch.long)\n",
    "        labels = data['labels'].to(device, dtype = torch.float)\n",
    "\n",
    "        outputs = model(ids, mask)\n",
    "\n",
    "        optimizer.zero_grad()\n",
    "        loss = loss_fn(outputs, labels)\n",
    "        if _%100==0:\n",
    "            print(f'Epoch: {epoch}, Loss:  {loss.item()}')\n",
    "        \n",
    "        optimizer.zero_grad()\n",
    "        loss.backward()\n",
    "        optimizer.step()"
   ]
  },
  {
   "cell_type": "code",
   "execution_count": 158,
   "id": "39c5e7be-217c-4a6c-89d4-3d53f00e7a16",
   "metadata": {},
   "outputs": [
    {
     "name": "stderr",
     "output_type": "stream",
     "text": [
      "/Users/bryanmaruyama/anaconda3/envs/ML-env/lib/python3.10/site-packages/transformers/tokenization_utils_base.py:2645: FutureWarning: The `pad_to_max_length` argument is deprecated and will be removed in a future version, use `padding=True` or `padding='longest'` to pad to the longest sequence in the batch, or use `padding='max_length'` to pad to a max length. In this case, you can give a specific length with `max_length` (e.g. `max_length=45`) or leave max_length to None to pad to the maximal input size of the model (e.g. 512 for Bert).\n",
      "  warnings.warn(\n"
     ]
    },
    {
     "name": "stdout",
     "output_type": "stream",
     "text": [
      "Epoch: 0, Loss:  1.839017629623413\n",
      "Epoch: 0, Loss:  1.3627631664276123\n",
      "Epoch: 0, Loss:  0.6552016735076904\n"
     ]
    }
   ],
   "source": [
    "for epoch in range(EPOCHS):\n",
    "    train(epoch)"
   ]
  },
  {
   "cell_type": "code",
   "execution_count": 159,
   "id": "e11e28a9-7156-40c7-a9d0-fd0c58d8480b",
   "metadata": {},
   "outputs": [],
   "source": [
    "def validation(epoch):\n",
    "    model.eval()\n",
    "    fin_targets = []\n",
    "    fin_outputs = []\n",
    "    \n",
    "    with torch.no_grad():\n",
    "        for _, data in enumerate(testing_loader, 0):\n",
    "            ids = data['ids'].to(device, dtype=torch.long)\n",
    "            mask = data['mask'].to(device, dtype=torch.long)\n",
    "            labels = data['labels'].to(device, dtype=torch.long) \n",
    "            \n",
    "            outputs = model(ids, mask)\n",
    "            \n",
    "            fin_targets.extend(labels.cpu().detach().numpy().tolist())\n",
    "            fin_outputs.extend(torch.nn.functional.softmax(outputs, dim=1).cpu().detach().numpy().tolist())\n",
    "\n",
    "    return fin_outputs, fin_targets"
   ]
  },
  {
   "cell_type": "code",
   "execution_count": 160,
   "id": "78ebfed8-1ff0-49ab-be9d-7cba5b143e26",
   "metadata": {},
   "outputs": [],
   "source": [
    "outputs, targets = validation(epoch)"
   ]
  },
  {
   "cell_type": "code",
   "execution_count": 114,
   "id": "aef788ab-2bd1-40ed-beee-46e7cbce1c0f",
   "metadata": {},
   "outputs": [],
   "source": [
    "o = outputs.copy()\n",
    "t = targets.copy()"
   ]
  },
  {
   "cell_type": "code",
   "execution_count": 161,
   "id": "cdf4d6c8-fd93-4051-a049-6d221367ea44",
   "metadata": {},
   "outputs": [],
   "source": [
    "for i in range(len(o)):\n",
    "    max_value = max(outputs[i])\n",
    "\n",
    "# Find the index of the maximum value using the index method\n",
    "    max_index = outputs[i].index(max_value)\n",
    "    outputs[i] = [0 for _ in outputs[i]]\n",
    "    outputs[i][max_index] = 1"
   ]
  },
  {
   "cell_type": "code",
   "execution_count": 162,
   "id": "af111c71-e889-4107-80e5-6fb6ebad9992",
   "metadata": {
    "scrolled": true
   },
   "outputs": [
    {
     "name": "stdout",
     "output_type": "stream",
     "text": [
      "[[0, 0, 0, 1, 0, 0], [0, 0, 0, 1, 0, 0], [0, 0, 0, 1, 0, 0], [1, 0, 0, 0, 0, 0], [0, 0, 1, 0, 0, 0], [0, 0, 0, 0, 1, 0], [0, 1, 0, 0, 0, 0], [1, 0, 0, 0, 0, 0], [0, 0, 0, 0, 1, 0], [0, 0, 0, 0, 0, 1], [1, 0, 0, 0, 0, 0], [0, 0, 0, 0, 1, 0], [0, 0, 1, 0, 0, 0], [0, 0, 0, 0, 1, 0], [0, 0, 0, 0, 1, 0], [0, 0, 0, 1, 0, 0], [0, 0, 0, 0, 1, 0], [0, 0, 0, 0, 0, 1], [0, 1, 0, 0, 0, 0], [0, 1, 0, 0, 0, 0], [0, 0, 0, 0, 1, 0], [0, 1, 0, 0, 0, 0], [0, 1, 0, 0, 0, 0], [0, 1, 0, 0, 0, 0], [0, 0, 0, 0, 0, 1], [0, 0, 0, 0, 1, 0], [0, 1, 0, 0, 0, 0], [0, 0, 0, 0, 1, 0], [0, 0, 0, 1, 0, 0], [0, 1, 0, 0, 0, 0], [0, 0, 1, 0, 0, 0], [0, 0, 0, 1, 0, 0], [0, 0, 0, 0, 1, 0], [0, 0, 1, 0, 0, 0], [0, 1, 0, 0, 0, 0], [0, 0, 0, 0, 1, 0], [0, 0, 1, 0, 0, 0], [1, 0, 0, 0, 0, 0], [0, 0, 0, 1, 0, 0], [0, 0, 1, 0, 0, 0], [1, 0, 0, 0, 0, 0], [0, 1, 0, 0, 0, 0], [0, 0, 0, 1, 0, 0], [1, 0, 0, 0, 0, 0], [0, 0, 0, 1, 0, 0], [0, 0, 0, 0, 1, 0], [0, 1, 0, 0, 0, 0], [0, 0, 1, 0, 0, 0], [1, 0, 0, 0, 0, 0], [0, 0, 0, 1, 0, 0], [1, 0, 0, 0, 0, 0], [0, 0, 1, 0, 0, 0], [0, 0, 0, 0, 0, 1], [0, 0, 1, 0, 0, 0], [0, 0, 1, 0, 0, 0], [0, 0, 0, 0, 1, 0], [1, 0, 0, 0, 0, 0], [0, 0, 0, 0, 1, 0], [0, 0, 0, 0, 1, 0], [0, 0, 0, 1, 0, 0], [0, 0, 0, 1, 0, 0], [0, 0, 1, 0, 0, 0], [0, 0, 1, 0, 0, 0], [0, 0, 0, 0, 0, 1], [0, 1, 0, 0, 0, 0], [0, 0, 0, 1, 0, 0], [0, 0, 1, 0, 0, 0], [0, 0, 0, 1, 0, 0], [0, 1, 0, 0, 0, 0], [0, 0, 0, 1, 0, 0], [0, 0, 0, 1, 0, 0], [0, 0, 0, 0, 1, 0], [0, 0, 1, 0, 0, 0], [0, 1, 0, 0, 0, 0], [1, 0, 0, 0, 0, 0], [0, 1, 0, 0, 0, 0], [0, 0, 1, 0, 0, 0], [1, 0, 0, 0, 0, 0], [0, 0, 0, 0, 1, 0], [0, 0, 0, 0, 1, 0], [0, 1, 0, 0, 0, 0], [1, 0, 0, 0, 0, 0], [1, 0, 0, 0, 0, 0], [0, 0, 0, 0, 0, 1], [0, 0, 0, 1, 0, 0], [0, 0, 0, 1, 0, 0], [1, 0, 0, 0, 0, 0], [0, 0, 1, 0, 0, 0], [0, 0, 0, 0, 1, 0], [0, 0, 0, 0, 0, 1], [0, 0, 1, 0, 0, 0], [0, 0, 0, 0, 0, 1], [0, 0, 0, 0, 0, 1], [0, 0, 1, 0, 0, 0], [1, 0, 0, 0, 0, 0], [0, 0, 0, 0, 0, 1], [0, 0, 0, 0, 1, 0], [0, 0, 0, 0, 1, 0], [1, 0, 0, 0, 0, 0], [0, 0, 0, 0, 1, 0], [0, 0, 0, 0, 1, 0], [0, 0, 0, 0, 1, 0], [0, 1, 0, 0, 0, 0], [0, 0, 0, 0, 1, 0], [0, 1, 0, 0, 0, 0], [0, 0, 1, 0, 0, 0], [0, 1, 0, 0, 0, 0], [0, 0, 0, 0, 1, 0], [0, 0, 1, 0, 0, 0], [1, 0, 0, 0, 0, 0], [1, 0, 0, 0, 0, 0], [0, 0, 1, 0, 0, 0], [0, 0, 0, 1, 0, 0], [0, 0, 0, 0, 1, 0], [0, 0, 0, 0, 1, 0], [0, 1, 0, 0, 0, 0], [0, 0, 1, 0, 0, 0], [0, 0, 0, 0, 1, 0], [0, 0, 1, 0, 0, 0], [0, 0, 0, 1, 0, 0], [1, 0, 0, 0, 0, 0], [0, 1, 0, 0, 0, 0], [0, 0, 1, 0, 0, 0], [0, 1, 0, 0, 0, 0], [0, 1, 0, 0, 0, 0], [0, 0, 0, 0, 0, 1], [0, 0, 0, 0, 0, 1], [0, 0, 1, 0, 0, 0], [0, 0, 0, 0, 1, 0], [0, 0, 0, 0, 0, 1], [0, 0, 0, 0, 0, 1], [0, 0, 0, 0, 0, 1], [0, 0, 0, 1, 0, 0], [0, 0, 1, 0, 0, 0], [0, 1, 0, 0, 0, 0], [0, 0, 0, 0, 1, 0], [0, 0, 1, 0, 0, 0], [0, 0, 0, 1, 0, 0], [0, 1, 0, 0, 0, 0], [0, 0, 0, 1, 0, 0], [0, 1, 0, 0, 0, 0], [0, 0, 0, 1, 0, 0], [0, 0, 0, 1, 0, 0], [0, 0, 0, 0, 0, 1], [1, 0, 0, 0, 0, 0], [0, 0, 0, 1, 0, 0], [0, 0, 0, 0, 1, 0], [0, 0, 1, 0, 0, 0], [0, 0, 1, 0, 0, 0], [0, 0, 1, 0, 0, 0], [0, 0, 0, 0, 1, 0], [0, 0, 0, 1, 0, 0], [0, 0, 0, 0, 0, 1], [0, 1, 0, 0, 0, 0], [0, 0, 0, 1, 0, 0], [0, 0, 0, 1, 0, 0], [0, 0, 0, 0, 0, 1], [1, 0, 0, 0, 0, 0], [0, 1, 0, 0, 0, 0], [1, 0, 0, 0, 0, 0], [0, 1, 0, 0, 0, 0], [0, 1, 0, 0, 0, 0], [0, 0, 1, 0, 0, 0], [0, 1, 0, 0, 0, 0], [0, 1, 0, 0, 0, 0], [1, 0, 0, 0, 0, 0], [0, 0, 1, 0, 0, 0], [0, 0, 1, 0, 0, 0], [0, 0, 0, 1, 0, 0], [0, 0, 1, 0, 0, 0], [1, 0, 0, 0, 0, 0], [0, 0, 0, 0, 0, 1], [0, 0, 1, 0, 0, 0], [0, 0, 1, 0, 0, 0], [0, 0, 1, 0, 0, 0], [0, 0, 0, 1, 0, 0], [0, 0, 0, 1, 0, 0], [0, 0, 1, 0, 0, 0], [0, 0, 1, 0, 0, 0], [0, 0, 0, 0, 0, 1], [0, 0, 1, 0, 0, 0], [1, 0, 0, 0, 0, 0], [1, 0, 0, 0, 0, 0], [0, 0, 0, 1, 0, 0], [0, 0, 0, 0, 1, 0], [0, 0, 0, 0, 1, 0], [0, 0, 0, 1, 0, 0], [0, 1, 0, 0, 0, 0], [0, 0, 0, 0, 1, 0], [0, 0, 1, 0, 0, 0], [0, 0, 1, 0, 0, 0], [1, 0, 0, 0, 0, 0], [0, 0, 1, 0, 0, 0], [0, 0, 1, 0, 0, 0], [0, 0, 0, 0, 0, 1], [0, 1, 0, 0, 0, 0], [0, 0, 0, 1, 0, 0], [0, 0, 0, 0, 1, 0], [1, 0, 0, 0, 0, 0], [0, 0, 0, 0, 1, 0], [0, 1, 0, 0, 0, 0], [0, 0, 0, 0, 0, 1], [0, 0, 1, 0, 0, 0], [0, 0, 1, 0, 0, 0], [0, 1, 0, 0, 0, 0], [1, 0, 0, 0, 0, 0], [0, 0, 1, 0, 0, 0], [0, 1, 0, 0, 0, 0], [0, 0, 0, 1, 0, 0], [0, 0, 0, 0, 1, 0], [0, 1, 0, 0, 0, 0], [0, 1, 0, 0, 0, 0], [0, 0, 0, 0, 0, 1], [0, 0, 0, 1, 0, 0], [1, 0, 0, 0, 0, 0], [1, 0, 0, 0, 0, 0], [0, 0, 0, 0, 0, 1], [0, 0, 0, 1, 0, 0], [0, 0, 0, 1, 0, 0], [0, 0, 0, 1, 0, 0], [0, 0, 0, 1, 0, 0], [0, 0, 0, 1, 0, 0], [0, 1, 0, 0, 0, 0], [0, 0, 0, 0, 1, 0], [0, 0, 0, 0, 0, 1], [1, 0, 0, 0, 0, 0], [0, 0, 1, 0, 0, 0], [0, 1, 0, 0, 0, 0], [1, 0, 0, 0, 0, 0], [0, 1, 0, 0, 0, 0], [1, 0, 0, 0, 0, 0], [0, 0, 0, 0, 1, 0], [0, 0, 1, 0, 0, 0], [0, 1, 0, 0, 0, 0], [0, 0, 1, 0, 0, 0], [0, 0, 0, 1, 0, 0], [0, 0, 0, 1, 0, 0], [0, 0, 0, 0, 0, 1], [0, 1, 0, 0, 0, 0], [0, 0, 0, 1, 0, 0], [0, 0, 0, 1, 0, 0], [0, 0, 0, 1, 0, 0], [0, 0, 1, 0, 0, 0], [0, 0, 0, 0, 1, 0], [0, 0, 1, 0, 0, 0], [1, 0, 0, 0, 0, 0], [0, 1, 0, 0, 0, 0], [0, 0, 0, 0, 1, 0], [0, 0, 1, 0, 0, 0], [1, 0, 0, 0, 0, 0], [0, 0, 0, 1, 0, 0], [1, 0, 0, 0, 0, 0], [0, 0, 0, 0, 0, 1], [0, 0, 0, 0, 1, 0], [1, 0, 0, 0, 0, 0], [0, 0, 0, 0, 0, 1], [1, 0, 0, 0, 0, 0], [0, 0, 0, 0, 0, 1], [0, 0, 0, 0, 1, 0], [0, 0, 0, 0, 1, 0], [0, 0, 0, 0, 1, 0], [0, 0, 0, 1, 0, 0], [0, 1, 0, 0, 0, 0], [0, 0, 0, 0, 1, 0], [0, 1, 0, 0, 0, 0], [0, 0, 0, 0, 1, 0], [0, 0, 0, 0, 1, 0], [0, 1, 0, 0, 0, 0], [0, 0, 0, 0, 0, 1], [0, 0, 0, 0, 1, 0], [0, 0, 0, 0, 1, 0], [0, 0, 1, 0, 0, 0], [1, 0, 0, 0, 0, 0], [0, 0, 0, 1, 0, 0], [0, 0, 1, 0, 0, 0], [0, 1, 0, 0, 0, 0], [0, 0, 0, 0, 1, 0], [0, 0, 0, 1, 0, 0], [0, 1, 0, 0, 0, 0], [1, 0, 0, 0, 0, 0], [1, 0, 0, 0, 0, 0], [1, 0, 0, 0, 0, 0], [0, 1, 0, 0, 0, 0], [0, 0, 0, 0, 1, 0], [0, 0, 0, 1, 0, 0], [0, 0, 0, 0, 1, 0], [0, 0, 0, 0, 0, 1], [0, 1, 0, 0, 0, 0], [1, 0, 0, 0, 0, 0], [0, 0, 0, 0, 1, 0], [0, 0, 0, 1, 0, 0], [0, 0, 1, 0, 0, 0], [0, 0, 0, 0, 1, 0], [0, 0, 0, 0, 1, 0], [0, 0, 0, 0, 1, 0], [0, 0, 1, 0, 0, 0], [0, 0, 1, 0, 0, 0], [0, 1, 0, 0, 0, 0], [0, 0, 1, 0, 0, 0], [0, 0, 0, 0, 1, 0], [0, 0, 0, 0, 0, 1], [0, 1, 0, 0, 0, 0], [0, 0, 0, 1, 0, 0], [0, 0, 0, 0, 1, 0], [0, 0, 0, 1, 0, 0], [0, 0, 1, 0, 0, 0], [0, 0, 0, 0, 0, 1], [0, 1, 0, 0, 0, 0], [0, 0, 0, 0, 1, 0], [1, 0, 0, 0, 0, 0], [1, 0, 0, 0, 0, 0], [0, 0, 1, 0, 0, 0], [0, 0, 1, 0, 0, 0], [0, 0, 1, 0, 0, 0], [0, 0, 1, 0, 0, 0], [1, 0, 0, 0, 0, 0], [0, 0, 1, 0, 0, 0], [0, 0, 1, 0, 0, 0], [0, 0, 0, 0, 1, 0], [0, 1, 0, 0, 0, 0], [0, 0, 0, 0, 1, 0], [0, 0, 0, 0, 1, 0], [0, 0, 0, 1, 0, 0], [0, 0, 0, 0, 1, 0], [0, 1, 0, 0, 0, 0], [0, 0, 1, 0, 0, 0], [0, 0, 0, 0, 1, 0], [1, 0, 0, 0, 0, 0], [0, 0, 0, 0, 1, 0], [0, 0, 0, 0, 1, 0], [0, 0, 0, 0, 1, 0], [1, 0, 0, 0, 0, 0], [0, 1, 0, 0, 0, 0], [0, 0, 1, 0, 0, 0], [0, 0, 1, 0, 0, 0], [0, 0, 0, 0, 1, 0], [0, 1, 0, 0, 0, 0], [0, 1, 0, 0, 0, 0], [1, 0, 0, 0, 0, 0], [0, 1, 0, 0, 0, 0], [0, 0, 0, 0, 0, 1], [0, 0, 1, 0, 0, 0], [0, 0, 0, 0, 1, 0], [1, 0, 0, 0, 0, 0], [0, 0, 0, 0, 1, 0], [0, 0, 0, 0, 0, 1], [0, 0, 0, 0, 1, 0], [0, 0, 0, 1, 0, 0], [0, 0, 0, 1, 0, 0], [0, 0, 0, 0, 1, 0], [0, 0, 1, 0, 0, 0], [0, 1, 0, 0, 0, 0], [1, 0, 0, 0, 0, 0], [0, 1, 0, 0, 0, 0], [0, 0, 0, 0, 0, 1], [0, 0, 0, 1, 0, 0], [0, 0, 1, 0, 0, 0], [1, 0, 0, 0, 0, 0], [0, 1, 0, 0, 0, 0], [0, 0, 0, 0, 1, 0], [1, 0, 0, 0, 0, 0], [0, 0, 0, 0, 0, 1], [1, 0, 0, 0, 0, 0], [0, 1, 0, 0, 0, 0], [0, 0, 0, 0, 1, 0], [0, 0, 0, 1, 0, 0], [0, 0, 1, 0, 0, 0], [0, 0, 0, 1, 0, 0], [0, 0, 1, 0, 0, 0], [0, 0, 1, 0, 0, 0], [0, 0, 0, 1, 0, 0], [0, 0, 1, 0, 0, 0], [1, 0, 0, 0, 0, 0], [1, 0, 0, 0, 0, 0], [0, 0, 0, 0, 0, 1], [0, 0, 0, 1, 0, 0], [0, 0, 1, 0, 0, 0], [0, 1, 0, 0, 0, 0], [0, 0, 0, 0, 1, 0], [0, 0, 0, 1, 0, 0], [0, 0, 0, 1, 0, 0], [0, 0, 0, 1, 0, 0], [0, 0, 1, 0, 0, 0], [0, 0, 0, 0, 1, 0], [0, 0, 0, 0, 0, 1], [1, 0, 0, 0, 0, 0], [0, 1, 0, 0, 0, 0], [0, 0, 1, 0, 0, 0], [0, 0, 0, 1, 0, 0], [0, 0, 1, 0, 0, 0], [0, 1, 0, 0, 0, 0], [0, 0, 0, 0, 1, 0], [0, 0, 1, 0, 0, 0], [0, 0, 1, 0, 0, 0], [1, 0, 0, 0, 0, 0], [0, 0, 0, 0, 1, 0], [0, 0, 0, 0, 1, 0], [0, 0, 0, 0, 1, 0], [0, 0, 0, 0, 1, 0], [1, 0, 0, 0, 0, 0], [0, 0, 0, 0, 1, 0], [0, 0, 0, 0, 1, 0], [0, 0, 0, 1, 0, 0], [0, 1, 0, 0, 0, 0], [0, 0, 1, 0, 0, 0], [1, 0, 0, 0, 0, 0], [0, 0, 0, 0, 1, 0], [0, 0, 0, 0, 1, 0], [1, 0, 0, 0, 0, 0], [1, 0, 0, 0, 0, 0], [0, 1, 0, 0, 0, 0], [0, 1, 0, 0, 0, 0], [1, 0, 0, 0, 0, 0], [0, 1, 0, 0, 0, 0], [0, 1, 0, 0, 0, 0], [0, 0, 0, 0, 0, 1], [0, 0, 0, 1, 0, 0], [0, 1, 0, 0, 0, 0], [0, 1, 0, 0, 0, 0], [0, 0, 1, 0, 0, 0], [0, 0, 0, 0, 1, 0], [0, 0, 0, 0, 1, 0], [0, 0, 0, 1, 0, 0], [0, 0, 1, 0, 0, 0], [0, 0, 0, 0, 1, 0], [1, 0, 0, 0, 0, 0], [0, 0, 0, 0, 1, 0], [0, 1, 0, 0, 0, 0], [1, 0, 0, 0, 0, 0], [0, 0, 0, 0, 1, 0], [0, 0, 1, 0, 0, 0], [0, 0, 0, 1, 0, 0], [0, 1, 0, 0, 0, 0], [0, 1, 0, 0, 0, 0], [0, 1, 0, 0, 0, 0], [0, 0, 0, 1, 0, 0], [0, 0, 0, 0, 1, 0], [1, 0, 0, 0, 0, 0], [0, 0, 0, 0, 0, 1], [0, 1, 0, 0, 0, 0], [0, 0, 0, 0, 1, 0], [0, 1, 0, 0, 0, 0], [0, 0, 1, 0, 0, 0], [0, 1, 0, 0, 0, 0], [0, 0, 0, 1, 0, 0], [0, 0, 0, 0, 1, 0], [0, 1, 0, 0, 0, 0], [0, 1, 0, 0, 0, 0], [0, 0, 1, 0, 0, 0], [0, 0, 0, 0, 1, 0], [0, 0, 0, 0, 1, 0], [0, 0, 0, 1, 0, 0], [0, 0, 0, 0, 1, 0], [1, 0, 0, 0, 0, 0], [0, 1, 0, 0, 0, 0], [0, 0, 0, 0, 0, 1], [0, 0, 0, 0, 1, 0], [1, 0, 0, 0, 0, 0], [1, 0, 0, 0, 0, 0], [0, 0, 0, 1, 0, 0], [0, 1, 0, 0, 0, 0], [0, 0, 1, 0, 0, 0], [1, 0, 0, 0, 0, 0], [0, 0, 0, 0, 0, 1], [1, 0, 0, 0, 0, 0], [0, 1, 0, 0, 0, 0], [0, 0, 1, 0, 0, 0], [0, 0, 1, 0, 0, 0], [0, 0, 0, 0, 1, 0], [0, 0, 0, 0, 1, 0], [0, 1, 0, 0, 0, 0], [0, 0, 1, 0, 0, 0], [0, 1, 0, 0, 0, 0], [0, 1, 0, 0, 0, 0], [0, 0, 0, 1, 0, 0], [0, 0, 0, 1, 0, 0], [0, 0, 0, 0, 1, 0], [0, 0, 0, 0, 1, 0], [0, 0, 0, 1, 0, 0], [0, 0, 0, 0, 0, 1], [0, 1, 0, 0, 0, 0], [0, 0, 1, 0, 0, 0], [0, 0, 0, 1, 0, 0], [0, 0, 1, 0, 0, 0], [0, 0, 0, 0, 1, 0], [0, 0, 1, 0, 0, 0], [0, 0, 1, 0, 0, 0], [0, 0, 0, 1, 0, 0], [0, 0, 0, 1, 0, 0], [0, 0, 0, 0, 1, 0], [0, 0, 0, 1, 0, 0], [0, 1, 0, 0, 0, 0], [0, 0, 1, 0, 0, 0], [0, 0, 1, 0, 0, 0], [0, 0, 0, 1, 0, 0], [0, 1, 0, 0, 0, 0], [0, 1, 0, 0, 0, 0], [0, 0, 1, 0, 0, 0], [0, 1, 0, 0, 0, 0], [0, 0, 1, 0, 0, 0], [0, 1, 0, 0, 0, 0], [0, 0, 1, 0, 0, 0], [0, 0, 0, 1, 0, 0], [1, 0, 0, 0, 0, 0], [0, 0, 0, 0, 1, 0], [0, 0, 0, 0, 1, 0], [1, 0, 0, 0, 0, 0], [0, 0, 0, 1, 0, 0], [0, 1, 0, 0, 0, 0], [0, 0, 1, 0, 0, 0], [0, 1, 0, 0, 0, 0], [0, 0, 1, 0, 0, 0], [0, 0, 0, 0, 1, 0], [1, 0, 0, 0, 0, 0], [0, 0, 0, 0, 1, 0], [0, 1, 0, 0, 0, 0], [0, 0, 0, 1, 0, 0], [0, 0, 0, 0, 1, 0], [0, 0, 0, 0, 1, 0], [1, 0, 0, 0, 0, 0], [0, 1, 0, 0, 0, 0], [0, 0, 0, 0, 1, 0], [0, 0, 0, 0, 0, 1], [0, 0, 0, 0, 0, 1], [0, 0, 0, 1, 0, 0], [0, 0, 1, 0, 0, 0], [0, 1, 0, 0, 0, 0], [1, 0, 0, 0, 0, 0], [0, 0, 0, 0, 0, 1], [0, 0, 0, 0, 1, 0], [0, 0, 0, 1, 0, 0], [0, 0, 1, 0, 0, 0], [0, 0, 0, 0, 0, 1], [0, 1, 0, 0, 0, 0], [0, 0, 0, 0, 1, 0], [0, 0, 0, 0, 1, 0], [0, 0, 0, 0, 1, 0], [1, 0, 0, 0, 0, 0], [0, 0, 1, 0, 0, 0], [0, 0, 1, 0, 0, 0], [0, 0, 0, 1, 0, 0], [0, 0, 1, 0, 0, 0], [0, 0, 0, 1, 0, 0], [0, 0, 0, 0, 0, 1], [0, 0, 1, 0, 0, 0], [0, 0, 1, 0, 0, 0], [0, 0, 0, 0, 1, 0], [0, 0, 1, 0, 0, 0], [0, 0, 0, 0, 1, 0], [0, 1, 0, 0, 0, 0], [0, 0, 1, 0, 0, 0], [0, 0, 0, 0, 0, 1], [0, 0, 0, 0, 0, 1], [0, 0, 1, 0, 0, 0], [0, 0, 0, 1, 0, 0], [0, 0, 1, 0, 0, 0], [0, 0, 0, 1, 0, 0], [0, 0, 0, 1, 0, 0], [0, 0, 0, 0, 1, 0], [0, 0, 0, 1, 0, 0], [0, 0, 0, 1, 0, 0], [0, 0, 0, 0, 1, 0], [0, 1, 0, 0, 0, 0], [0, 0, 0, 0, 1, 0], [0, 0, 0, 1, 0, 0], [1, 0, 0, 0, 0, 0], [0, 0, 1, 0, 0, 0], [0, 0, 1, 0, 0, 0], [0, 0, 1, 0, 0, 0], [1, 0, 0, 0, 0, 0], [0, 1, 0, 0, 0, 0], [0, 0, 0, 1, 0, 0], [0, 1, 0, 0, 0, 0], [0, 0, 0, 1, 0, 0], [0, 0, 1, 0, 0, 0], [0, 0, 1, 0, 0, 0], [0, 0, 0, 0, 1, 0], [0, 1, 0, 0, 0, 0], [0, 0, 1, 0, 0, 0], [1, 0, 0, 0, 0, 0], [0, 0, 0, 0, 0, 1], [0, 0, 0, 1, 0, 0], [0, 0, 1, 0, 0, 0], [0, 0, 0, 0, 0, 1], [0, 0, 0, 0, 1, 0], [0, 0, 0, 0, 1, 0], [0, 0, 1, 0, 0, 0], [0, 0, 1, 0, 0, 0], [0, 0, 0, 1, 0, 0], [0, 0, 0, 0, 1, 0], [0, 0, 0, 0, 1, 0], [0, 0, 0, 0, 0, 1], [0, 0, 0, 0, 0, 1], [0, 0, 1, 0, 0, 0], [0, 0, 0, 0, 0, 1], [0, 0, 0, 1, 0, 0], [1, 0, 0, 0, 0, 0], [0, 0, 1, 0, 0, 0], [0, 1, 0, 0, 0, 0], [0, 0, 1, 0, 0, 0], [0.5488280057907104, 0.05689222738146782, 0.023835523054003716, 0.04664606973528862, 0.2910013496875763, 0.03279688209295273], [0.026119878515601158, 0.029136816039681435, 0.5583382248878479, 0.05578937754034996, 0.12558427453041077, 0.2050314098596573], [0.10742998123168945, 0.04619297757744789, 0.06404350697994232, 0.03505783900618553, 0.6887931227684021, 0.05848269164562225], [0.15433022379875183, 0.2041664868593216, 0.030009528622031212, 0.49455732107162476, 0.05387786775827408, 0.06305857747793198], [0.019400043413043022, 0.03462952375411987, 0.44760340452194214, 0.03134080767631531, 0.057082634419202805, 0.4099436104297638], [0.23683208227157593, 0.038920506834983826, 0.08639546483755112, 0.1331658661365509, 0.431497722864151, 0.0731884017586708], [0.17521506547927856, 0.022678108885884285, 0.044415559619665146, 0.6450637578964233, 0.08439207077026367, 0.028235390782356262], [0.0545257069170475, 0.03334128484129906, 0.06416124850511551, 0.7648041844367981, 0.04817134886980057, 0.03499624878168106], [0.7154792547225952, 0.04169208183884621, 0.02022435888648033, 0.05040276423096657, 0.14616887271404266, 0.02603265829384327], [0.1584160029888153, 0.1250118911266327, 0.07375825196504593, 0.05314140394330025, 0.4756326675415039, 0.11403977870941162], [0.06555807590484619, 0.17140688002109528, 0.09156376123428345, 0.2522997558116913, 0.09491132199764252, 0.3242601454257965], [0.0278430487960577, 0.05257093533873558, 0.2949891686439514, 0.08228137344121933, 0.036622777581214905, 0.505692720413208], [0.02256736345589161, 0.028233952820301056, 0.5652803778648376, 0.02919522486627102, 0.08504674583673477, 0.2696763277053833], [0.6056050658226013, 0.19584538042545319, 0.011516002006828785, 0.07900183647871017, 0.08206261694431305, 0.0259690023958683], [0.049349576234817505, 0.03394979611039162, 0.22303122282028198, 0.03560495376586914, 0.501461923122406, 0.15660259127616882], [0.03290311247110367, 0.026080088689923286, 0.44670844078063965, 0.030720990151166916, 0.2834279537200928, 0.18015940487384796], [0.23004047572612762, 0.0904546007514, 0.11867215484380722, 0.11495830118656158, 0.3434964418411255, 0.10237803310155869], [0.07707356661558151, 0.738656759262085, 0.022405501455068588, 0.031161820515990257, 0.03557991981506348, 0.09512244910001755], [0.21340611577033997, 0.3930540680885315, 0.02378392219543457, 0.027753885835409164, 0.25243082642555237, 0.08957108855247498], [0.261280357837677, 0.04753951355814934, 0.04132501035928726, 0.041313719004392624, 0.5633200407028198, 0.045221321284770966], [0.02552037686109543, 0.0735323503613472, 0.1743377149105072, 0.04708050936460495, 0.046944379806518555, 0.6325846910476685], [0.10111387819051743, 0.13119401037693024, 0.10225118696689606, 0.3497926592826843, 0.13916988670825958, 0.17647835612297058], [0.34394118189811707, 0.048643115907907486, 0.02603927068412304, 0.36652982234954834, 0.18631717562675476, 0.028529517352581024], [0.08272533118724823, 0.7403823733329773, 0.019200943410396576, 0.02667614072561264, 0.055464278906583786, 0.07555099576711655], [0.39676061272621155, 0.0716557502746582, 0.03764502331614494, 0.04268018528819084, 0.3966967463493347, 0.05456170439720154], [0.6744329929351807, 0.04358253628015518, 0.02058323100209236, 0.07802320271730423, 0.15925496816635132, 0.024123068898916245], [0.07488150894641876, 0.7175819873809814, 0.029090693220496178, 0.022914761677384377, 0.05552646890282631, 0.10000456124544144], [0.02771604061126709, 0.05997718498110771, 0.406131386756897, 0.05266499146819115, 0.07435956597328186, 0.3791508674621582], [0.036243826150894165, 0.034875281155109406, 0.37880396842956543, 0.02848551608622074, 0.3234279453754425, 0.1981634497642517], [0.12415121495723724, 0.04586737975478172, 0.05515420809388161, 0.034126780927181244, 0.6905599236488342, 0.0501403883099556], [0.03681717440485954, 0.08806315064430237, 0.24439086019992828, 0.26274871826171875, 0.08006588369607925, 0.2879141867160797], [0.11297719180583954, 0.7456017136573792, 0.01557919941842556, 0.03493880107998848, 0.037891265004873276, 0.05301184207201004], [0.07020874321460724, 0.03685006871819496, 0.027334894984960556, 0.8057146668434143, 0.03839778155088425, 0.02149384841322899], [0.08388194441795349, 0.022758377715945244, 0.048454806208610535, 0.7464302778244019, 0.07073178142309189, 0.027742842212319374], [0.08098625391721725, 0.051570530980825424, 0.08432408422231674, 0.6020265817642212, 0.07832537591457367, 0.1027672216296196], [0.3861178755760193, 0.047985345125198364, 0.051066361367702484, 0.1225070208311081, 0.3396565318107605, 0.05266687646508217], [0.0838651955127716, 0.038769982755184174, 0.1409102976322174, 0.06173661723732948, 0.5709577202796936, 0.10376017540693283], [0.6538839340209961, 0.05163275822997093, 0.018294546753168106, 0.03544776141643524, 0.2159084528684616, 0.024832531809806824], [0.04100707545876503, 0.20494262874126434, 0.09469390660524368, 0.03451886773109436, 0.045911479741334915, 0.5789260864257812], [0.02486448362469673, 0.023619161918759346, 0.5877004265785217, 0.029239404946565628, 0.08850798010826111, 0.24606846272945404], [0.11384152621030807, 0.03396102413535118, 0.021570539101958275, 0.7754700183868408, 0.03662159666419029, 0.018535327166318893], [0.738090991973877, 0.07345850765705109, 0.011517783626914024, 0.03918493539094925, 0.11676207929849625, 0.020985718816518784], [0.09154544025659561, 0.048445720225572586, 0.06485170125961304, 0.030663155019283295, 0.7088438868522644, 0.05565012991428375], [0.09604331105947495, 0.05309801548719406, 0.14760807156562805, 0.4165562391281128, 0.17005468904972076, 0.11663971841335297], [0.030682623386383057, 0.03368551656603813, 0.4477914869785309, 0.029065806418657303, 0.23118968307971954, 0.2275848686695099], [0.7591313123703003, 0.04793423414230347, 0.013795905746519566, 0.08297590166330338, 0.074196957051754, 0.02196567878127098], [0.23259751498699188, 0.5996412038803101, 0.012609527446329594, 0.040082260966300964, 0.07016628980636597, 0.0449032336473465], [0.10027086734771729, 0.06701623648405075, 0.05315505713224411, 0.030778907239437103, 0.6927193403244019, 0.0560595877468586], [0.17863710224628448, 0.035599976778030396, 0.023155953735113144, 0.7062987685203552, 0.03459152951836586, 0.02171657234430313], [0.0434194952249527, 0.1427355855703354, 0.12256278842687607, 0.09307500720024109, 0.03875034675002098, 0.5594568848609924], [0.0835595354437828, 0.7239301800727844, 0.022072749212384224, 0.020581796765327454, 0.060381028801202774, 0.08947474509477615], [0.6283157467842102, 0.03798061981797218, 0.02397873066365719, 0.06181274354457855, 0.2190803736448288, 0.028831722214818], [0.18620805442333221, 0.03790196403861046, 0.05808326601982117, 0.05074700340628624, 0.6164632439613342, 0.05059649795293808], [0.08565771579742432, 0.6787867546081543, 0.03201739117503166, 0.046474482864141464, 0.040026016533374786, 0.11703768372535706], [0.10955844074487686, 0.7259644865989685, 0.02068757824599743, 0.02269548550248146, 0.051124103367328644, 0.069970041513443], [0.022629650309681892, 0.03795114904642105, 0.40242999792099, 0.040699880570173264, 0.03804129734635353, 0.4582480490207672], [0.018945908173918724, 0.030841507017612457, 0.5771840810775757, 0.047454506158828735, 0.08254961669445038, 0.2430243045091629], [0.11191082745790482, 0.38510575890541077, 0.047748301178216934, 0.06710536777973175, 0.22860774397850037, 0.1595219224691391], [0.05856351926922798, 0.10905444622039795, 0.131708562374115, 0.509123682975769, 0.06322363018989563, 0.12832613289356232], [0.09289737045764923, 0.07080492377281189, 0.06827513128519058, 0.6285915970802307, 0.08035251498222351, 0.05907851457595825], [0.02359638549387455, 0.0360429547727108, 0.49090108275413513, 0.030914073809981346, 0.10661295056343079, 0.3119325041770935], [0.021274197846651077, 0.02586974762380123, 0.5479444265365601, 0.031596846878528595, 0.08264432102441788, 0.2906704246997833], [0.02187366597354412, 0.03462081775069237, 0.5080442428588867, 0.026854265481233597, 0.11066273599863052, 0.29794424772262573], [0.44466665387153625, 0.05173245072364807, 0.026645461097359657, 0.3201819360256195, 0.11922578513622284, 0.03754777833819389], [0.07210613042116165, 0.03615882992744446, 0.04180222004652023, 0.7872870564460754, 0.028922919183969498, 0.03372291848063469], [0.19221624732017517, 0.6185770034790039, 0.019544361159205437, 0.0697786808013916, 0.05137573182582855, 0.04850802570581436], [0.06247299164533615, 0.3308633267879486, 0.055260490626096725, 0.08488791435956955, 0.044573716819286346, 0.4219415485858917], [0.10895249992609024, 0.5087490677833557, 0.0310015007853508, 0.049911729991436005, 0.1463937759399414, 0.15499146282672882], [0.12345870584249496, 0.022661840543150902, 0.03988875821232796, 0.7229957580566406, 0.06277211010456085, 0.028222771361470222], [0.025629419833421707, 0.06568662822246552, 0.26340416073799133, 0.027624892070889473, 0.05746278539299965, 0.5601921081542969], [0.03565152734518051, 0.038065481930971146, 0.4602113962173462, 0.05035021901130676, 0.1254958063364029, 0.29022565484046936], [0.09228797256946564, 0.7429458498954773, 0.014767775312066078, 0.020434800535440445, 0.05903446674346924, 0.07052917033433914], [0.29115235805511475, 0.05798478052020073, 0.04326469823718071, 0.04689977318048477, 0.5059024095535278, 0.0547960102558136], [0.05875486880540848, 0.10637166351079941, 0.1471029818058014, 0.02850784733891487, 0.4714469313621521, 0.18781575560569763], [0.028881803154945374, 0.02812756784260273, 0.5217394828796387, 0.23994755744934082, 0.050939951092004776, 0.1303635835647583], [0.03395218029618263, 0.03142793849110603, 0.47681140899658203, 0.08484387397766113, 0.0807463526725769, 0.29221826791763306], [0.028609713539481163, 0.032193873077631, 0.5041641592979431, 0.10706306993961334, 0.04654644429683685, 0.28142279386520386], [0.06384109705686569, 0.6817451119422913, 0.027516236528754234, 0.034039419144392014, 0.04703371599316597, 0.14582428336143494], [0.08622459322214127, 0.5236230492591858, 0.03823239728808403, 0.02205916866660118, 0.12205325067043304, 0.20780746638774872], [0.09495663642883301, 0.03422989696264267, 0.02286638133227825, 0.7935600280761719, 0.03338257223367691, 0.02100457437336445], [0.25145772099494934, 0.18057747185230255, 0.03202312812209129, 0.04520680382847786, 0.4311286509037018, 0.05960630998015404], [0.0934913158416748, 0.6427637338638306, 0.03410131856799126, 0.03897079452872276, 0.08487242460250854, 0.10580039769411087], [0.06199807673692703, 0.026073982939124107, 0.028942357748746872, 0.8377742767333984, 0.026954947039484978, 0.018256310373544693], [0.06394418329000473, 0.04540633410215378, 0.2124055176973343, 0.050449520349502563, 0.4818609952926636, 0.14593341946601868], [0.1494438201189041, 0.055356211960315704, 0.06227722764015198, 0.056542299687862396, 0.619717538356781, 0.056662991642951965], [0.22660453617572784, 0.49273577332496643, 0.018836544826626778, 0.0390019416809082, 0.1530991494655609, 0.06972197443246841], [0.1288418471813202, 0.7138597369194031, 0.013005782850086689, 0.023056235164403915, 0.06528159230947495, 0.05595482140779495], [0.0897412896156311, 0.7646912336349487, 0.013940485194325447, 0.02733294479548931, 0.04263518750667572, 0.06165887415409088], [0.0666050910949707, 0.02969651110470295, 0.0365992933511734, 0.7925280332565308, 0.04084474965929985, 0.0337262824177742], [0.5457261204719543, 0.13383343815803528, 0.014428227208554745, 0.04611910879611969, 0.2266961634159088, 0.03319687768816948], [0.08244006335735321, 0.032578133046627045, 0.2975497841835022, 0.2580731511116028, 0.20135152339935303, 0.12800732254981995], [0.1845047026872635, 0.5332838892936707, 0.01983240805566311, 0.02587706781923771, 0.15345682203769684, 0.08304507285356522], [0.022030090913176537, 0.027249744161963463, 0.5897172093391418, 0.029481908306479454, 0.056839168071746826, 0.2746818959712982], [0.019966796040534973, 0.02686908096075058, 0.6276588439941406, 0.03460242599248886, 0.05443010479211807, 0.23647266626358032], [0.0215130727738142, 0.023223651573061943, 0.5736421346664429, 0.026646921411156654, 0.08948823809623718, 0.265485942363739], [0.5619943737983704, 0.06211225688457489, 0.021338773891329765, 0.052665699273347855, 0.27006635069847107, 0.03182258829474449], [0.1525910347700119, 0.6740273833274841, 0.015149245038628578, 0.02686072699725628, 0.07809700816869736, 0.05327462777495384], [0.05917423963546753, 0.03795544058084488, 0.026270831003785133, 0.8226827383041382, 0.03320303186774254, 0.020713690668344498], [0.05930446460843086, 0.05847125127911568, 0.14754243195056915, 0.02912631258368492, 0.570704996585846, 0.1348506063222885], [0.08139476180076599, 0.03595222905278206, 0.0371384471654892, 0.7934719324111938, 0.023701157420873642, 0.028341565281152725], [0.026714352890849113, 0.018668927252292633, 0.6569799184799194, 0.07021013647317886, 0.06164019927382469, 0.16578646004199982], [0.07074400782585144, 0.6915876269340515, 0.026559697464108467, 0.042714234441518784, 0.047668080776929855, 0.12072630226612091], [0.3914578855037689, 0.055299706757068634, 0.03122430294752121, 0.03863934054970741, 0.44821619987487793, 0.03516269475221634], [0.13212919235229492, 0.7218068242073059, 0.01423447486013174, 0.032593969255685806, 0.05213456228375435, 0.04710092023015022], [0.095676489174366, 0.7514795660972595, 0.015127701684832573, 0.022412719205021858, 0.04836582392454147, 0.0669378712773323], [0.04754810407757759, 0.026664352044463158, 0.042901333421468735, 0.8327839970588684, 0.02995472028851509, 0.020147506147623062], [0.13592447340488434, 0.32134413719177246, 0.029725689440965652, 0.0316118560731411, 0.37242719531059265, 0.10896668583154678], [0.05184869095683098, 0.031669981777668, 0.034672681242227554, 0.8130414485931396, 0.03786406293511391, 0.03090311586856842], [0.02256474457681179, 0.02822745218873024, 0.5186212658882141, 0.0284850113093853, 0.09271145612001419, 0.3093900680541992], [0.05710902810096741, 0.05570260435342789, 0.2519387900829315, 0.057751867920160294, 0.41001182794570923, 0.16748593747615814], [0.18725962936878204, 0.23893602192401886, 0.06732799112796783, 0.055954642593860626, 0.31879156827926636, 0.13173016905784607], [0.39143800735473633, 0.057518113404512405, 0.021675510331988335, 0.4310082793235779, 0.07345246523618698, 0.02490762434899807], [0.08281143754720688, 0.14033357799053192, 0.13414323329925537, 0.06404314935207367, 0.38195961713790894, 0.19670899212360382], [0.07380161434412003, 0.07791740447282791, 0.18358087539672852, 0.15860819816589355, 0.19852177798748016, 0.30757012963294983], [0.7370026111602783, 0.045035965740680695, 0.014878361485898495, 0.05017244815826416, 0.13185171782970428, 0.02105889841914177], [0.06489873677492142, 0.036719515919685364, 0.030101636424660683, 0.8176518082618713, 0.03133002668619156, 0.019298266619443893], [0.06970760226249695, 0.7564231753349304, 0.0194826852530241, 0.03452964127063751, 0.03911169618368149, 0.08074517548084259], [0.02129741758108139, 0.03304668515920639, 0.4591066837310791, 0.03842587769031525, 0.058952827006578445, 0.38917046785354614], [0.023801658302545547, 0.042546596378088, 0.2658552825450897, 0.03958648443222046, 0.04542124643921852, 0.5827887654304504], [0.13976337015628815, 0.7201444506645203, 0.013596054166555405, 0.03226287662982941, 0.041924770921468735, 0.05230840668082237], [0.026509111747145653, 0.0248014647513628, 0.5468933582305908, 0.030950244516134262, 0.1251886636018753, 0.24565717577934265], [0.13705579936504364, 0.027191827073693275, 0.0949595645070076, 0.5146280527114868, 0.1715792715549469, 0.054585523903369904], [0.08649300038814545, 0.022233229130506516, 0.04724745824933052, 0.7770640850067139, 0.03790514916181564, 0.02905714139342308], [0.07203041017055511, 0.025563979521393776, 0.042085859924554825, 0.7704291343688965, 0.06415918469429016, 0.025731433182954788], [0.12801669538021088, 0.7023732662200928, 0.02054337039589882, 0.035181835293769836, 0.030993757769465446, 0.08289109170436859], [0.04917510598897934, 0.039253007620573044, 0.07043521851301193, 0.730730414390564, 0.061007026582956314, 0.04939922317862511], [0.23469305038452148, 0.10734867304563522, 0.03688754141330719, 0.06246907636523247, 0.5116658806800842, 0.0469357855618], [0.021248433738946915, 0.023433154448866844, 0.5910351276397705, 0.027261309325695038, 0.10501600056886673, 0.23200596868991852], [0.05910581722855568, 0.08021269738674164, 0.05096425861120224, 0.7036155462265015, 0.03723304718732834, 0.06886862963438034], [0.0719158872961998, 0.02838779054582119, 0.06403057277202606, 0.7136749625205994, 0.08739080280065536, 0.03460004925727844], [0.053845494985580444, 0.4181532859802246, 0.1007336899638176, 0.10583812743425369, 0.03623561933636665, 0.28519371151924133], [0.10974182933568954, 0.04650726169347763, 0.06634020805358887, 0.03601677715778351, 0.687738835811615, 0.05365504324436188], [0.10863480716943741, 0.293814480304718, 0.04704891890287399, 0.027967434376478195, 0.3940465450286865, 0.12848782539367676], [0.025101300328969955, 0.02621360495686531, 0.49363213777542114, 0.04616815224289894, 0.056243930011987686, 0.352640837430954], [0.2009606510400772, 0.05159764736890793, 0.0596163235604763, 0.4084920883178711, 0.23065294325351715, 0.0486803874373436], [0.07242885231971741, 0.05035615339875221, 0.027770858258008957, 0.7849781513214111, 0.04114905744791031, 0.02331683598458767], [0.02172648347914219, 0.07496874779462814, 0.1526753455400467, 0.03372400254011154, 0.04907550290226936, 0.6678298711776733], [0.09667894244194031, 0.04098264500498772, 0.11896924674510956, 0.06606803834438324, 0.5917269587516785, 0.08557408303022385], [0.5005611777305603, 0.07611965388059616, 0.02303028292953968, 0.029184982180595398, 0.3375554084777832, 0.03354846313595772], [0.02413092367351055, 0.025337327271699905, 0.5474327206611633, 0.027121614664793015, 0.1269277036190033, 0.24904973804950714], [0.190317764878273, 0.04010216146707535, 0.031533077359199524, 0.6569717526435852, 0.05159565806388855, 0.029479561373591423], [0.13742926716804504, 0.03713558241724968, 0.05324164405465126, 0.6545278429985046, 0.08908313512802124, 0.028582528233528137], [0.052733276039361954, 0.050625286996364594, 0.28678297996520996, 0.12092693150043488, 0.3396798074245453, 0.1492517590522766], [0.08997412770986557, 0.6672828793525696, 0.02911473996937275, 0.048759039491415024, 0.049324799329042435, 0.1155444085597992], [0.020807020366191864, 0.01960265077650547, 0.6685498356819153, 0.02985440194606781, 0.054562948644161224, 0.2066231518983841], [0.06866060197353363, 0.1907988041639328, 0.09696310758590698, 0.20911787450313568, 0.07977055758237839, 0.35468900203704834], [0.3950926959514618, 0.3083702325820923, 0.014508320949971676, 0.04533291980624199, 0.1954633891582489, 0.04123245179653168], [0.023333588615059853, 0.07104533910751343, 0.34505829215049744, 0.07113681733608246, 0.026091577485203743, 0.4633342921733856], [0.1009894385933876, 0.7570084929466248, 0.016004104167222977, 0.03157726302742958, 0.03850140795111656, 0.055919282138347626], [0.05871187523007393, 0.041983891278505325, 0.033436790108680725, 0.8067501783370972, 0.03250924125313759, 0.02660798467695713], [0.04448227211833, 0.14368851482868195, 0.15885484218597412, 0.050400055944919586, 0.13881614804267883, 0.4637582302093506], [0.14745761454105377, 0.09162895381450653, 0.13077788054943085, 0.16789473593235016, 0.2756364941596985, 0.1866043210029602], [0.08424370735883713, 0.0259263813495636, 0.02633688785135746, 0.7967814207077026, 0.04118268936872482, 0.02552885375916958], [0.14005132019519806, 0.05313684046268463, 0.10717719793319702, 0.15010783076286316, 0.4690008759498596, 0.08052591979503632], [0.05817139148712158, 0.031554095447063446, 0.0643625408411026, 0.7750438451766968, 0.026155097410082817, 0.04471307992935181], [0.09041380137205124, 0.04751916229724884, 0.06556808203458786, 0.03157903999090195, 0.7059845924377441, 0.058935362845659256], [0.02458212338387966, 0.03808644786477089, 0.47626230120658875, 0.03307580575346947, 0.1882500946521759, 0.23974324762821198], [0.01946631632745266, 0.018508989363908768, 0.6705820560455322, 0.0434630922973156, 0.049199752509593964, 0.1987798511981964], [0.1981794685125351, 0.09348087757825851, 0.05260905995965004, 0.04532749205827713, 0.5615498423576355, 0.048853278160095215], [0.3546302914619446, 0.03759254142642021, 0.053449030965566635, 0.12591594457626343, 0.3870058059692383, 0.04140637069940567], [0.15533295273780823, 0.026672430336475372, 0.05488813668489456, 0.667402446269989, 0.06121468544006348, 0.034489359706640244], [0.7663403749465942, 0.055394649505615234, 0.011507483199238777, 0.07860514521598816, 0.06982986629009247, 0.01832243800163269], [0.026782378554344177, 0.033009935170412064, 0.5096089243888855, 0.029721936210989952, 0.11813513934612274, 0.2827416956424713], [0.02373969741165638, 0.04354342073202133, 0.24702681601047516, 0.03876199573278427, 0.039719730615615845, 0.6072083115577698], [0.102203868329525, 0.04193837568163872, 0.03128974139690399, 0.7475857138633728, 0.04854443669319153, 0.02843783237040043], [0.08216528594493866, 0.13638049364089966, 0.06894738227128983, 0.4771575927734375, 0.10044685751199722, 0.1349024474620819], [0.018288016319274902, 0.023551488295197487, 0.6437664031982422, 0.030733149498701096, 0.047991786152124405, 0.2356690913438797], [0.15097740292549133, 0.7093735337257385, 0.014070197008550167, 0.032485298812389374, 0.03975159674882889, 0.05334199219942093], [0.05537768080830574, 0.024391701444983482, 0.05092708766460419, 0.7910793423652649, 0.05161069706082344, 0.026613397523760796], [0.5580543279647827, 0.07820649445056915, 0.02091178484261036, 0.03297732397913933, 0.2791106402873993, 0.030739394947886467], [0.5630670785903931, 0.049725644290447235, 0.02467283234000206, 0.04014675319194794, 0.29192349314689636, 0.03046422265470028], [0.0654917061328888, 0.024764124304056168, 0.05546402186155319, 0.7661865949630737, 0.05944573134183884, 0.028647786006331444], [0.10166124999523163, 0.07453416287899017, 0.04790681600570679, 0.02520398050546646, 0.6800147891044617, 0.07067908346652985], [0.09187009185552597, 0.047017164528369904, 0.12458966672420502, 0.07247210294008255, 0.5757022500038147, 0.08834868669509888], [0.16768041253089905, 0.05659281089901924, 0.12262459099292755, 0.2682403326034546, 0.2343292534351349, 0.15053263306617737], [0.07586923241615295, 0.037224095314741135, 0.2688966989517212, 0.07691971957683563, 0.41175684332847595, 0.12933343648910522], [0.7281346917152405, 0.06801126897335052, 0.011640431359410286, 0.08956724405288696, 0.08120514452457428, 0.021441157907247543], [0.11663267761468887, 0.025059064850211143, 0.034536346793174744, 0.7513206005096436, 0.05133239924907684, 0.02111895941197872], [0.016697412356734276, 0.042992912232875824, 0.46045079827308655, 0.038156960159540176, 0.03311542421579361, 0.4085865020751953], [0.09201271831989288, 0.7524577379226685, 0.016812803223729134, 0.0268583782017231, 0.05000947788357735, 0.06184881180524826], [0.01675192266702652, 0.02402028627693653, 0.6278337836265564, 0.0308977123349905, 0.04147845506668091, 0.2590179145336151], [0.19638532400131226, 0.034728653728961945, 0.02670092135667801, 0.6769363880157471, 0.04101482778787613, 0.024233916774392128], [0.08004605025053024, 0.03690477833151817, 0.06096799299120903, 0.7491844892501831, 0.03202998638153076, 0.04086683690547943], [0.038017358630895615, 0.14204266667366028, 0.1548827737569809, 0.1694067418575287, 0.038159292191267014, 0.4574911892414093], [0.02283724956214428, 0.025485996156930923, 0.563781201839447, 0.029214872047305107, 0.09033642709255219, 0.2683441638946533], [0.023233802989125252, 0.030801597982645035, 0.5461959838867188, 0.030537381768226624, 0.1030731201171875, 0.2661581039428711], [0.18882939219474792, 0.029025711119174957, 0.1101767048239708, 0.1686924695968628, 0.44952622056007385, 0.05374947190284729], [0.022473465651273727, 0.023086724802851677, 0.6167781352996826, 0.026700202375650406, 0.1259622722864151, 0.18499919772148132], [0.08563723415136337, 0.07200770080089569, 0.02749614417552948, 0.7514231204986572, 0.03783207759261131, 0.02560373954474926], [0.029476583003997803, 0.12300045788288116, 0.18257945775985718, 0.10245051980018616, 0.027109643444418907, 0.5353833436965942], [0.05080115422606468, 0.05143159627914429, 0.16809865832328796, 0.03993852436542511, 0.5428438782691956, 0.14688614010810852], [0.13425521552562714, 0.6675960421562195, 0.01909646764397621, 0.041145700961351395, 0.04921206831932068, 0.08869446814060211], [0.029940417036414146, 0.03680189698934555, 0.547757625579834, 0.03044922463595867, 0.10659617185592651, 0.24845467507839203], [0.023747073486447334, 0.03436944633722305, 0.40582913160324097, 0.031233660876750946, 0.07767529785633087, 0.4271453619003296], [0.02495010942220688, 0.06827519834041595, 0.15513840317726135, 0.03694969788193703, 0.040670182555913925, 0.6740164160728455], [0.027240490540862083, 0.02471543289721012, 0.5583914518356323, 0.032010938972234726, 0.11360114812850952, 0.24404054880142212], [0.39209476113319397, 0.26547202467918396, 0.018115965649485588, 0.050352081656455994, 0.22201910614967346, 0.05194607377052307], [0.31626859307289124, 0.04749734699726105, 0.03717104345560074, 0.03909594938158989, 0.5216809511184692, 0.03828612342476845], [0.11860859394073486, 0.7368892431259155, 0.015767890959978104, 0.030933154746890068, 0.037951353937387466, 0.05984969437122345], [0.09272810816764832, 0.02795500122010708, 0.03856445848941803, 0.7772521376609802, 0.03142142295837402, 0.032078877091407776], [0.31635940074920654, 0.036694157868623734, 0.02856997400522232, 0.5458351373672485, 0.04794812202453613, 0.024593155831098557], [0.0933661237359047, 0.028532253578305244, 0.03063601814210415, 0.7919073700904846, 0.03259820491075516, 0.02296009100973606], [0.10824532806873322, 0.06443165987730026, 0.06567317247390747, 0.02977694571018219, 0.6489270925521851, 0.08294578641653061], [0.060531243681907654, 0.5422008037567139, 0.05206168815493584, 0.03905511274933815, 0.06735572218894958, 0.2387954741716385], [0.033132154494524, 0.021461207419633865, 0.5938859581947327, 0.09901275485754013, 0.0886944979429245, 0.16381344199180603], [0.7593592405319214, 0.050994738936424255, 0.013263062573969364, 0.05481448397040367, 0.10237466543912888, 0.019193923100829124], [0.12298815697431564, 0.17330792546272278, 0.08925661444664001, 0.252165824174881, 0.09918088465929031, 0.2631005644798279], [0.05338383466005325, 0.03534304350614548, 0.02764604054391384, 0.8278046250343323, 0.03325026109814644, 0.02257208526134491], [0.02452710084617138, 0.029924802482128143, 0.5208499431610107, 0.029132340103387833, 0.11340022087097168, 0.28216561675071716], [0.08863645792007446, 0.0432620532810688, 0.07185861468315125, 0.030974896624684334, 0.6991763710975647, 0.06609159708023071], [0.09465246647596359, 0.027602288872003555, 0.025394311174750328, 0.7993190288543701, 0.03339120000600815, 0.019640671089291573], [0.04131359979510307, 0.03471332788467407, 0.3093789517879486, 0.038961466401815414, 0.41158124804496765, 0.16405130922794342], [0.06086791679263115, 0.22375112771987915, 0.06290391832590103, 0.08596760779619217, 0.050486523658037186, 0.5160229206085205], [0.11180275678634644, 0.723153293132782, 0.016057847067713737, 0.03992884233593941, 0.0335296131670475, 0.0755276009440422], [0.7430147528648376, 0.053392790257930756, 0.01403983123600483, 0.044188354164361954, 0.12214631587266922, 0.023217976093292236], [0.19819416105747223, 0.12029272317886353, 0.036759816110134125, 0.08423187583684921, 0.5000207424163818, 0.060500722378492355], [0.4453418552875519, 0.036633048206567764, 0.020652400329709053, 0.40972214937210083, 0.06419724225997925, 0.02345326729118824], [0.6843979358673096, 0.047169849276542664, 0.02148362062871456, 0.12713024020195007, 0.09234075248241425, 0.027477525174617767], [0.04846368730068207, 0.061047449707984924, 0.21288453042507172, 0.22686168551445007, 0.07780124992132187, 0.37294140458106995], [0.37924885749816895, 0.42501741647720337, 0.012356199324131012, 0.06495366990566254, 0.0748528316617012, 0.043570928275585175], [0.06233004853129387, 0.24388332664966583, 0.10086210072040558, 0.07517047971487045, 0.1599159687757492, 0.35783809423446655], [0.08366164565086365, 0.034074414521455765, 0.11562440544366837, 0.03833688050508499, 0.6530923247337341, 0.07521025836467743], [0.08564788848161697, 0.05147569626569748, 0.15855397284030914, 0.29345259070396423, 0.2888643741607666, 0.122005395591259], [0.19640423357486725, 0.043104227632284164, 0.14480727910995483, 0.20527200400829315, 0.3338436484336853, 0.07656868547201157], [0.09280182421207428, 0.03937371447682381, 0.08377503603696823, 0.03457781672477722, 0.6903284192085266, 0.05914316326379776], [0.19418837130069733, 0.6184123754501343, 0.01710844598710537, 0.06416387856006622, 0.04325082153081894, 0.06287604570388794], [0.142379030585289, 0.020329931750893593, 0.13215932250022888, 0.5417661070823669, 0.10559236258268356, 0.05777328088879585], [0.2612040936946869, 0.05684620514512062, 0.09344618022441864, 0.20250551402568817, 0.26798203587532043, 0.11801603436470032], [0.07014453411102295, 0.03327396139502525, 0.02591046877205372, 0.8209166526794434, 0.029581885784864426, 0.02017253264784813], [0.10513037443161011, 0.5820420980453491, 0.022792981937527657, 0.054677192121744156, 0.1411355882883072, 0.09422173351049423], [0.025572791695594788, 0.03788985311985016, 0.40582767128944397, 0.03206915035843849, 0.07912600040435791, 0.4195144772529602], [0.040705449879169464, 0.026576803997159004, 0.4622228145599365, 0.054319653660058975, 0.2461235225200653, 0.17005179822444916], [0.34904202818870544, 0.04138677194714546, 0.044916752725839615, 0.10440047085285187, 0.42030081152915955, 0.039953216910362244], [0.01984465681016445, 0.026868753135204315, 0.5661334991455078, 0.0284110140055418, 0.08609209209680557, 0.27265000343322754], [0.04383052885532379, 0.1734783947467804, 0.13411284983158112, 0.14500144124031067, 0.03208570554852486, 0.4714910387992859], [0.6249834895133972, 0.0785553902387619, 0.015338198281824589, 0.17477945983409882, 0.08025746047496796, 0.026086006313562393], [0.060533974319696426, 0.08342055231332779, 0.1510746330022812, 0.04081655293703079, 0.4905621111392975, 0.17359226942062378], [0.35198017954826355, 0.3001519739627838, 0.019162995740771294, 0.03471909090876579, 0.24278731644153595, 0.05119851604104042], [0.08750081807374954, 0.10461029410362244, 0.04702525585889816, 0.6129863858222961, 0.07363630831241608, 0.07424084842205048], [0.30141976475715637, 0.24528099596500397, 0.021954050287604332, 0.028160860762000084, 0.343071311712265, 0.06011305749416351], [0.085609070956707, 0.6647434234619141, 0.022066401317715645, 0.038785845041275024, 0.0530979223549366, 0.13569730520248413], [0.10595566779375076, 0.7436884641647339, 0.016293438151478767, 0.03148524463176727, 0.045254677534103394, 0.05732249096035957], [0.052888043224811554, 0.5716355443000793, 0.038725025951862335, 0.043625324964523315, 0.05256734788417816, 0.2405586689710617], [0.03345809504389763, 0.20474736392498016, 0.10445605218410492, 0.03197804093360901, 0.06673847138881683, 0.5586220026016235], [0.021052995696663857, 0.021457267925143242, 0.6615844964981079, 0.042557958513498306, 0.058407414704561234, 0.19493988156318665], [0.0807209238409996, 0.6711567044258118, 0.03438558429479599, 0.03840307518839836, 0.0723564550280571, 0.10297727584838867], [0.3383568525314331, 0.040851809084415436, 0.04418964311480522, 0.049697283655405045, 0.48572838306427, 0.041176024824380875], [0.03011852502822876, 0.0256687942892313, 0.531453013420105, 0.03506527841091156, 0.18946704268455505, 0.1882273554801941], [0.07965430617332458, 0.7320840954780579, 0.018185244873166084, 0.020782675594091415, 0.06449976563453674, 0.08479397743940353], [0.6783777475357056, 0.11408233642578125, 0.01193883828818798, 0.038679420948028564, 0.12963426113128662, 0.027287323027849197], [0.12600938975811005, 0.04510125517845154, 0.06004884093999863, 0.03541077300906181, 0.6806232929229736, 0.052806418389081955], [0.15889208018779755, 0.04890882596373558, 0.043551646173000336, 0.03436262533068657, 0.66987544298172, 0.0444093756377697], [0.022032523527741432, 0.052415765821933746, 0.23406383395195007, 0.04842613264918327, 0.04781804978847504, 0.5952437520027161], [0.10905450582504272, 0.053248804062604904, 0.1274625062942505, 0.05232243239879608, 0.5634694695472717, 0.09444230049848557], [0.1684117317199707, 0.03144148364663124, 0.07249429076910019, 0.3527885675430298, 0.3305245339870453, 0.044339388608932495], [0.13504359126091003, 0.04298948124051094, 0.046402499079704285, 0.03472301363945007, 0.695411205291748, 0.045430198311805725], [0.23038670420646667, 0.02355986274778843, 0.03507624939084053, 0.6234802603721619, 0.061227500438690186, 0.02626943774521351], [0.10116638988256454, 0.7549523115158081, 0.014933696947991848, 0.030950235202908516, 0.04134698957204819, 0.05665033310651779], [0.12534992396831512, 0.04977923631668091, 0.06433460116386414, 0.03242321312427521, 0.6744556427001953, 0.05365738645195961], [0.03506612777709961, 0.06298346817493439, 0.29248830676078796, 0.03521702438592911, 0.0991005077958107, 0.47514450550079346], [0.0467507503926754, 0.10126101225614548, 0.1271170824766159, 0.24337764084339142, 0.08025884628295898, 0.40123456716537476], [0.021783195436000824, 0.028549719601869583, 0.5696966052055359, 0.03753696009516716, 0.05214979127049446, 0.2902836501598358], [0.02011386677622795, 0.02822374366223812, 0.6282805800437927, 0.058037061244249344, 0.07324901968240738, 0.19209572672843933], [0.05187761411070824, 0.035692308098077774, 0.054175905883312225, 0.7802686095237732, 0.04688767343759537, 0.031097929924726486], [0.06322343647480011, 0.03419988229870796, 0.15637122094631195, 0.03477679565548897, 0.6286367774009705, 0.08279186487197876], [0.029388312250375748, 0.050758328288793564, 0.2288898229598999, 0.03933901712298393, 0.043139662593603134, 0.6084848642349243], [0.15812735259532928, 0.7060194611549377, 0.012457759119570255, 0.032591771334409714, 0.04617057368159294, 0.04463306814432144], [0.043442610651254654, 0.17447276413440704, 0.09448108822107315, 0.04440433531999588, 0.12646646797657013, 0.5167328119277954], [0.027759281918406487, 0.028116310015320778, 0.4119623899459839, 0.030931811779737473, 0.2783327102661133, 0.222897469997406], [0.048974622040987015, 0.0345388688147068, 0.03859826922416687, 0.8183973431587219, 0.0318961925804615, 0.02759470045566559], [0.7529174089431763, 0.05296013131737709, 0.01428051758557558, 0.06216789782047272, 0.09377932548522949, 0.023894676938652992], [0.1005074754357338, 0.042290881276130676, 0.04622851312160492, 0.698069155216217, 0.079411081969738, 0.03349282965064049], [0.7293264269828796, 0.043599486351013184, 0.01784669980406761, 0.05108070373535156, 0.13520020246505737, 0.022946570068597794], [0.10856816917657852, 0.7515828609466553, 0.01618717983365059, 0.025068067014217377, 0.03800708428025246, 0.060586679726839066], [0.29411861300468445, 0.09557688236236572, 0.03718192130327225, 0.03860723599791527, 0.48991626501083374, 0.04459906741976738], [0.7562527656555176, 0.03747408092021942, 0.014732904732227325, 0.08635468780994415, 0.08468017727136612, 0.020505446940660477], [0.048867080360651016, 0.07908227294683456, 0.16815780103206635, 0.0276894960552454, 0.4661147892475128, 0.21008868515491486], [0.022876765578985214, 0.02295796014368534, 0.5905306935310364, 0.028831373900175095, 0.081517793238163, 0.2532852590084076], [0.10469433665275574, 0.04478063806891441, 0.05974841117858887, 0.03215448185801506, 0.7061079144477844, 0.05251415818929672], [0.028289075940847397, 0.036893051117658615, 0.4113071858882904, 0.04062892496585846, 0.06233874708414078, 0.4205430746078491], [0.0794430673122406, 0.4174658954143524, 0.05569565296173096, 0.02666935883462429, 0.15680161118507385, 0.2639244794845581], [0.06294608861207962, 0.28960981965065, 0.053878333419561386, 0.09009706228971481, 0.08131524920463562, 0.4221534729003906], [0.135558620095253, 0.7108137607574463, 0.014964140951633453, 0.02025737799704075, 0.059252768754959106, 0.05915331467986107], [0.09699948132038116, 0.04326895251870155, 0.03209952265024185, 0.7402161359786987, 0.0620713047683239, 0.025344617664813995], [0.17814631760120392, 0.051880765706300735, 0.09379357844591141, 0.21586203575134277, 0.38897979259490967, 0.07133756577968597], [0.040950704365968704, 0.03378251940011978, 0.35126546025276184, 0.30773675441741943, 0.08028418570756912, 0.18598031997680664], [0.2212654948234558, 0.1352619081735611, 0.0379183329641819, 0.033325087279081345, 0.5109883546829224, 0.061240844428539276], [0.08531269431114197, 0.755352258682251, 0.018365710973739624, 0.0356270931661129, 0.039356376975774765, 0.06598584353923798], [0.07673167437314987, 0.7250056266784668, 0.022707700729370117, 0.0372762605547905, 0.0537402369081974, 0.08453862369060516], [0.0563175268471241, 0.5626769661903381, 0.04311472922563553, 0.036281149834394455, 0.03394661843776703, 0.26766303181648254], [0.10718226432800293, 0.7313234806060791, 0.019969765096902847, 0.033637743443250656, 0.056264203041791916, 0.05162246525287628], [0.041144173592329025, 0.03798111528158188, 0.060320205986499786, 0.7809855341911316, 0.032911673188209534, 0.046657249331474304], [0.05015578866004944, 0.03392770141363144, 0.033385708928108215, 0.8280805945396423, 0.030067697167396545, 0.02438257820904255], [0.757017195224762, 0.07299796491861343, 0.01078867632895708, 0.04980634152889252, 0.08968444913625717, 0.01970539428293705], [0.5522522330284119, 0.034636203199625015, 0.02520710974931717, 0.22089877724647522, 0.13761477172374725, 0.029390942305326462], [0.2749427258968353, 0.03727396950125694, 0.03148673474788666, 0.5211946368217468, 0.10967394709587097, 0.02542802318930626], [0.05027468129992485, 0.029727423563599586, 0.03251165151596069, 0.8307825922966003, 0.03155064955353737, 0.025153029710054398], [0.04302316904067993, 0.1440935879945755, 0.12386763095855713, 0.11724194884300232, 0.042211852967739105, 0.5295618176460266], [0.2525623142719269, 0.3153844177722931, 0.02677292376756668, 0.02880493551492691, 0.31765350699424744, 0.058821823447942734], [0.02761988900601864, 0.05098917335271835, 0.38293731212615967, 0.05355450510978699, 0.10430294275283813, 0.3805961012840271]]\n"
     ]
    }
   ],
   "source": [
    "print(outputs)"
   ]
  },
  {
   "cell_type": "code",
   "execution_count": 164,
   "id": "88472cf4-2c47-4e0e-8260-601e830b0a8f",
   "metadata": {},
   "outputs": [
    {
     "name": "stdout",
     "output_type": "stream",
     "text": [
      "Accuracy Score = 0.7122222222222222\n",
      "F1 Score (Micro) = 0.7122222222222222\n",
      "F1 Score (Macro) = 0.7083843549672116\n"
     ]
    }
   ],
   "source": [
    "targets_single_label = np.argmax(targets, axis=1)\n",
    "outputs_single_label = np.argmax(outputs, axis=1)\n",
    "\n",
    "accuracy = metrics.accuracy_score(targets_single_label, outputs_single_label)\n",
    "f1_score_macro = metrics.f1_score(targets_single_label, outputs_single_label, average='macro')\n",
    "print(f\"Accuracy Score = {accuracy}\")\n",
    "print(f\"F1 Score (Macro) = {f1_score_macro}\")"
   ]
  },
  {
   "cell_type": "code",
   "execution_count": 109,
   "id": "36851ac3-5fdc-4cf1-aaed-e317b6f78932",
   "metadata": {},
   "outputs": [
    {
     "name": "stdout",
     "output_type": "stream",
     "text": [
      "[1, 0, 2, 1]\n",
      "[1, 0, 1, 2]\n"
     ]
    }
   ],
   "source": [
    "true_labels = [[0, 1, 0], [1, 0, 0], [0, 0, 1], [0, 1, 0]]\n",
    "predicted_labels = [[0, 1, 0], [1, 0, 0], [0, 1, 0], [0, 0, 1]]\n",
    "\n",
    "# Convert one-hot encoded labels to class indices\n",
    "true_indices = [list.index(1) for list in true_labels]\n",
    "predicted_indices = [list.index(1) for list in predicted_labels]\n",
    "print(true_indices)\n",
    "print(predicted_indices)"
   ]
  },
  {
   "cell_type": "code",
   "execution_count": null,
   "id": "0a6eccaa-762f-4777-b978-f16998374e60",
   "metadata": {},
   "outputs": [],
   "source": []
  }
 ],
 "metadata": {
  "kernelspec": {
   "display_name": "Python 3 (ipykernel)",
   "language": "python",
   "name": "python3"
  },
  "language_info": {
   "codemirror_mode": {
    "name": "ipython",
    "version": 3
   },
   "file_extension": ".py",
   "mimetype": "text/x-python",
   "name": "python",
   "nbconvert_exporter": "python",
   "pygments_lexer": "ipython3",
   "version": "3.11.5"
  }
 },
 "nbformat": 4,
 "nbformat_minor": 5
}
